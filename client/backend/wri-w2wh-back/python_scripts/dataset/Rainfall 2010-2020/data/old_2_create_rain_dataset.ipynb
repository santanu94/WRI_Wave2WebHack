{
 "cells": [
  {
   "cell_type": "code",
   "execution_count": 1,
   "metadata": {
    "executionInfo": {
     "elapsed": 35,
     "status": "ok",
     "timestamp": 1625171041164,
     "user": {
      "displayName": "Santanu Bhattacharjee",
      "photoUrl": "",
      "userId": "14679996383546323615"
     },
     "user_tz": -330
    },
    "id": "lCeFanxAin9K"
   },
   "outputs": [],
   "source": [
    "import pandas as pd"
   ]
  },
  {
   "cell_type": "code",
   "execution_count": 2,
   "metadata": {
    "executionInfo": {
     "elapsed": 33,
     "status": "ok",
     "timestamp": 1625171041166,
     "user": {
      "displayName": "Santanu Bhattacharjee",
      "photoUrl": "",
      "userId": "14679996383546323615"
     },
     "user_tz": -330
    },
    "id": "c8lIIag0itDI"
   },
   "outputs": [],
   "source": [
    "df_2011 = pd.read_csv('Rainfall-2008-2011.csv')\n",
    "df_2012 = pd.read_csv('Rainfall-2012.csv')\n",
    "df_2013 = pd.read_csv('Rainfall-2013.csv')\n",
    "df_2014 = pd.read_csv('Rainfall-2014.csv')\n",
    "df_2015 = pd.read_csv('Rainfall-2015.csv')\n",
    "df_2016 = pd.read_csv('Rainfall-2016.csv')\n",
    "df_2017 = pd.read_csv('Rainfall-2017.csv')\n",
    "df_2018 = pd.read_csv('Rainfall-2018.csv')\n",
    "df_2019 = pd.read_csv('Rainfall-2019.csv')\n",
    "df_2020 = pd.read_csv('Rainfall-2020.csv')"
   ]
  },
  {
   "cell_type": "code",
   "execution_count": 3,
   "metadata": {
    "colab": {
     "base_uri": "https://localhost:8080/",
     "height": 424
    },
    "executionInfo": {
     "elapsed": 32,
     "status": "ok",
     "timestamp": 1625171041168,
     "user": {
      "displayName": "Santanu Bhattacharjee",
      "photoUrl": "",
      "userId": "14679996383546323615"
     },
     "user_tz": -330
    },
    "id": "jJOwlKG1jL_e",
    "outputId": "30f6f79d-7502-4b5b-ab0e-32e1b1803252"
   },
   "outputs": [
    {
     "data": {
      "text/html": [
       "<div>\n",
       "<style scoped>\n",
       "    .dataframe tbody tr th:only-of-type {\n",
       "        vertical-align: middle;\n",
       "    }\n",
       "\n",
       "    .dataframe tbody tr th {\n",
       "        vertical-align: top;\n",
       "    }\n",
       "\n",
       "    .dataframe thead th {\n",
       "        text-align: right;\n",
       "    }\n",
       "</style>\n",
       "<table border=\"1\" class=\"dataframe\">\n",
       "  <thead>\n",
       "    <tr style=\"text-align: right;\">\n",
       "      <th></th>\n",
       "      <th>DISTRICTS</th>\n",
       "      <th>YEAR</th>\n",
       "      <th>JAN</th>\n",
       "      <th>FEB</th>\n",
       "      <th>MAR</th>\n",
       "      <th>APR</th>\n",
       "      <th>MAY</th>\n",
       "      <th>JUN</th>\n",
       "      <th>JUL</th>\n",
       "      <th>AUG</th>\n",
       "      <th>SEP</th>\n",
       "      <th>OCT</th>\n",
       "      <th>NOV</th>\n",
       "      <th>DEC</th>\n",
       "    </tr>\n",
       "  </thead>\n",
       "  <tbody>\n",
       "    <tr>\n",
       "      <th>0</th>\n",
       "      <td>BAGALKOTE</td>\n",
       "      <td>2008</td>\n",
       "      <td>0.0</td>\n",
       "      <td>16.7</td>\n",
       "      <td>94.2</td>\n",
       "      <td>10.3</td>\n",
       "      <td>37.5</td>\n",
       "      <td>46.5</td>\n",
       "      <td>28.3</td>\n",
       "      <td>60.2</td>\n",
       "      <td>135.4</td>\n",
       "      <td>60.3</td>\n",
       "      <td>27.2</td>\n",
       "      <td>0.3</td>\n",
       "    </tr>\n",
       "    <tr>\n",
       "      <th>1</th>\n",
       "      <td>BAGALKOTE</td>\n",
       "      <td>2009</td>\n",
       "      <td>0.0</td>\n",
       "      <td>0.0</td>\n",
       "      <td>2.9</td>\n",
       "      <td>14.8</td>\n",
       "      <td>66.3</td>\n",
       "      <td>119.0</td>\n",
       "      <td>41.7</td>\n",
       "      <td>107.3</td>\n",
       "      <td>195.6</td>\n",
       "      <td>220.1</td>\n",
       "      <td>28.8</td>\n",
       "      <td>31.2</td>\n",
       "    </tr>\n",
       "    <tr>\n",
       "      <th>2</th>\n",
       "      <td>BAGALKOTE</td>\n",
       "      <td>2010</td>\n",
       "      <td>13.4</td>\n",
       "      <td>0.1</td>\n",
       "      <td>0.0</td>\n",
       "      <td>10.6</td>\n",
       "      <td>57.4</td>\n",
       "      <td>109.7</td>\n",
       "      <td>89.6</td>\n",
       "      <td>149.3</td>\n",
       "      <td>64.2</td>\n",
       "      <td>58.3</td>\n",
       "      <td>83.2</td>\n",
       "      <td>0.4</td>\n",
       "    </tr>\n",
       "    <tr>\n",
       "      <th>3</th>\n",
       "      <td>BAGALKOTE</td>\n",
       "      <td>2011</td>\n",
       "      <td>0.0</td>\n",
       "      <td>1.9</td>\n",
       "      <td>0.4</td>\n",
       "      <td>39.2</td>\n",
       "      <td>81.0</td>\n",
       "      <td>74.9</td>\n",
       "      <td>77.6</td>\n",
       "      <td>107.0</td>\n",
       "      <td>57.1</td>\n",
       "      <td>90.4</td>\n",
       "      <td>0.0</td>\n",
       "      <td>0.0</td>\n",
       "    </tr>\n",
       "    <tr>\n",
       "      <th>4</th>\n",
       "      <td>BENGALURU RURAL</td>\n",
       "      <td>2008</td>\n",
       "      <td>0.0</td>\n",
       "      <td>2.1</td>\n",
       "      <td>100.9</td>\n",
       "      <td>15.2</td>\n",
       "      <td>100.7</td>\n",
       "      <td>11.8</td>\n",
       "      <td>149.1</td>\n",
       "      <td>223.0</td>\n",
       "      <td>103.9</td>\n",
       "      <td>150.4</td>\n",
       "      <td>25.2</td>\n",
       "      <td>2.3</td>\n",
       "    </tr>\n",
       "    <tr>\n",
       "      <th>...</th>\n",
       "      <td>...</td>\n",
       "      <td>...</td>\n",
       "      <td>...</td>\n",
       "      <td>...</td>\n",
       "      <td>...</td>\n",
       "      <td>...</td>\n",
       "      <td>...</td>\n",
       "      <td>...</td>\n",
       "      <td>...</td>\n",
       "      <td>...</td>\n",
       "      <td>...</td>\n",
       "      <td>...</td>\n",
       "      <td>...</td>\n",
       "      <td>...</td>\n",
       "    </tr>\n",
       "    <tr>\n",
       "      <th>29</th>\n",
       "      <td>YADGIR</td>\n",
       "      <td>2019</td>\n",
       "      <td>0.0</td>\n",
       "      <td>0.0</td>\n",
       "      <td>0.0</td>\n",
       "      <td>15.7</td>\n",
       "      <td>21.9</td>\n",
       "      <td>82.5</td>\n",
       "      <td>138.2</td>\n",
       "      <td>70.7</td>\n",
       "      <td>181.1</td>\n",
       "      <td>67.4</td>\n",
       "      <td>11.2</td>\n",
       "      <td>0.9</td>\n",
       "    </tr>\n",
       "    <tr>\n",
       "      <th>0</th>\n",
       "      <td>MYSURU</td>\n",
       "      <td>2020</td>\n",
       "      <td>0.0</td>\n",
       "      <td>4.3</td>\n",
       "      <td>19.9</td>\n",
       "      <td>50.0</td>\n",
       "      <td>128.4</td>\n",
       "      <td>72.7</td>\n",
       "      <td>124.2</td>\n",
       "      <td>138.5</td>\n",
       "      <td>140.4</td>\n",
       "      <td>97.1</td>\n",
       "      <td>36.0</td>\n",
       "      <td>14.7</td>\n",
       "    </tr>\n",
       "    <tr>\n",
       "      <th>1</th>\n",
       "      <td>HASSAN</td>\n",
       "      <td>2020</td>\n",
       "      <td>0.2</td>\n",
       "      <td>0.0</td>\n",
       "      <td>13.2</td>\n",
       "      <td>47.2</td>\n",
       "      <td>161.0</td>\n",
       "      <td>111.3</td>\n",
       "      <td>177.3</td>\n",
       "      <td>225.0</td>\n",
       "      <td>175.9</td>\n",
       "      <td>155.4</td>\n",
       "      <td>26.9</td>\n",
       "      <td>16.4</td>\n",
       "    </tr>\n",
       "    <tr>\n",
       "      <th>2</th>\n",
       "      <td>KODAGU</td>\n",
       "      <td>2020</td>\n",
       "      <td>0.0</td>\n",
       "      <td>0.0</td>\n",
       "      <td>16.3</td>\n",
       "      <td>113.2</td>\n",
       "      <td>201.8</td>\n",
       "      <td>412.2</td>\n",
       "      <td>436.9</td>\n",
       "      <td>974.9</td>\n",
       "      <td>521.1</td>\n",
       "      <td>178.7</td>\n",
       "      <td>24.1</td>\n",
       "      <td>9.9</td>\n",
       "    </tr>\n",
       "    <tr>\n",
       "      <th>3</th>\n",
       "      <td>CHIKKAMAGALURU</td>\n",
       "      <td>2020</td>\n",
       "      <td>0.0</td>\n",
       "      <td>0.0</td>\n",
       "      <td>7.8</td>\n",
       "      <td>55.9</td>\n",
       "      <td>139.2</td>\n",
       "      <td>266.7</td>\n",
       "      <td>352.9</td>\n",
       "      <td>662.7</td>\n",
       "      <td>370.3</td>\n",
       "      <td>161.2</td>\n",
       "      <td>32.7</td>\n",
       "      <td>20.2</td>\n",
       "    </tr>\n",
       "  </tbody>\n",
       "</table>\n",
       "<p>357 rows × 14 columns</p>\n",
       "</div>"
      ],
      "text/plain": [
       "          DISTRICTS  YEAR   JAN   FEB    MAR    APR    MAY    JUN    JUL  \\\n",
       "0         BAGALKOTE  2008   0.0  16.7   94.2   10.3   37.5   46.5   28.3   \n",
       "1         BAGALKOTE  2009   0.0   0.0    2.9   14.8   66.3  119.0   41.7   \n",
       "2         BAGALKOTE  2010  13.4   0.1    0.0   10.6   57.4  109.7   89.6   \n",
       "3         BAGALKOTE  2011   0.0   1.9    0.4   39.2   81.0   74.9   77.6   \n",
       "4   BENGALURU RURAL  2008   0.0   2.1  100.9   15.2  100.7   11.8  149.1   \n",
       "..              ...   ...   ...   ...    ...    ...    ...    ...    ...   \n",
       "29           YADGIR  2019   0.0   0.0    0.0   15.7   21.9   82.5  138.2   \n",
       "0            MYSURU  2020   0.0   4.3   19.9   50.0  128.4   72.7  124.2   \n",
       "1            HASSAN  2020   0.2   0.0   13.2   47.2  161.0  111.3  177.3   \n",
       "2            KODAGU  2020   0.0   0.0   16.3  113.2  201.8  412.2  436.9   \n",
       "3    CHIKKAMAGALURU  2020   0.0   0.0    7.8   55.9  139.2  266.7  352.9   \n",
       "\n",
       "      AUG    SEP    OCT   NOV   DEC  \n",
       "0    60.2  135.4   60.3  27.2   0.3  \n",
       "1   107.3  195.6  220.1  28.8  31.2  \n",
       "2   149.3   64.2   58.3  83.2   0.4  \n",
       "3   107.0   57.1   90.4   0.0   0.0  \n",
       "4   223.0  103.9  150.4  25.2   2.3  \n",
       "..    ...    ...    ...   ...   ...  \n",
       "29   70.7  181.1   67.4  11.2   0.9  \n",
       "0   138.5  140.4   97.1  36.0  14.7  \n",
       "1   225.0  175.9  155.4  26.9  16.4  \n",
       "2   974.9  521.1  178.7  24.1   9.9  \n",
       "3   662.7  370.3  161.2  32.7  20.2  \n",
       "\n",
       "[357 rows x 14 columns]"
      ]
     },
     "execution_count": 3,
     "metadata": {},
     "output_type": "execute_result"
    }
   ],
   "source": [
    "df = pd.concat([df_2011, df_2012, df_2013, df_2014, df_2015, df_2016, df_2017, df_2018, df_2019, df_2020])\n",
    "df"
   ]
  },
  {
   "cell_type": "markdown",
   "metadata": {
    "id": "Ir3Sn4hNMmW7"
   },
   "source": [
    "## Verify all district names are matched"
   ]
  },
  {
   "cell_type": "code",
   "execution_count": 4,
   "metadata": {
    "executionInfo": {
     "elapsed": 28,
     "status": "ok",
     "timestamp": 1625171041170,
     "user": {
      "displayName": "Santanu Bhattacharjee",
      "photoUrl": "",
      "userId": "14679996383546323615"
     },
     "user_tz": -330
    },
    "id": "e-sR7oUflAcN"
   },
   "outputs": [],
   "source": [
    "def check_districts(df):\n",
    "    if df.shape[0] < 9:\n",
    "        print(df['DISTRICTS'].values[0], df['YEAR'].values)"
   ]
  },
  {
   "cell_type": "code",
   "execution_count": 5,
   "metadata": {
    "colab": {
     "base_uri": "https://localhost:8080/",
     "height": 32
    },
    "executionInfo": {
     "elapsed": 28,
     "status": "ok",
     "timestamp": 1625171041172,
     "user": {
      "displayName": "Santanu Bhattacharjee",
      "photoUrl": "",
      "userId": "14679996383546323615"
     },
     "user_tz": -330
    },
    "id": "JnSKVphnjtjM",
    "outputId": "c1b40ffe-e25c-476e-d268-f786e9b2f503"
   },
   "outputs": [
    {
     "data": {
      "text/html": [
       "<div>\n",
       "<style scoped>\n",
       "    .dataframe tbody tr th:only-of-type {\n",
       "        vertical-align: middle;\n",
       "    }\n",
       "\n",
       "    .dataframe tbody tr th {\n",
       "        vertical-align: top;\n",
       "    }\n",
       "\n",
       "    .dataframe thead th {\n",
       "        text-align: right;\n",
       "    }\n",
       "</style>\n",
       "<table border=\"1\" class=\"dataframe\">\n",
       "  <thead>\n",
       "    <tr style=\"text-align: right;\">\n",
       "      <th></th>\n",
       "    </tr>\n",
       "  </thead>\n",
       "  <tbody>\n",
       "  </tbody>\n",
       "</table>\n",
       "</div>"
      ],
      "text/plain": [
       "Empty DataFrame\n",
       "Columns: []\n",
       "Index: []"
      ]
     },
     "execution_count": 5,
     "metadata": {},
     "output_type": "execute_result"
    }
   ],
   "source": [
    "df.groupby('DISTRICTS').apply(check_districts)"
   ]
  },
  {
   "cell_type": "code",
   "execution_count": 6,
   "metadata": {
    "colab": {
     "base_uri": "https://localhost:8080/"
    },
    "executionInfo": {
     "elapsed": 26,
     "status": "ok",
     "timestamp": 1625171041174,
     "user": {
      "displayName": "Santanu Bhattacharjee",
      "photoUrl": "",
      "userId": "14679996383546323615"
     },
     "user_tz": -330
    },
    "id": "5Ecyd-Kdl9zU",
    "outputId": "6a3ea682-3df9-4482-f106-4efa62189f98"
   },
   "outputs": [
    {
     "data": {
      "text/plain": [
       "30"
      ]
     },
     "execution_count": 6,
     "metadata": {},
     "output_type": "execute_result"
    }
   ],
   "source": [
    "df['DISTRICTS'].nunique()"
   ]
  },
  {
   "cell_type": "markdown",
   "metadata": {
    "id": "vyprVFpPNGBB"
   },
   "source": [
    "## Save dataset"
   ]
  },
  {
   "cell_type": "code",
   "execution_count": 7,
   "metadata": {
    "executionInfo": {
     "elapsed": 24,
     "status": "ok",
     "timestamp": 1625171041176,
     "user": {
      "displayName": "Santanu Bhattacharjee",
      "photoUrl": "",
      "userId": "14679996383546323615"
     },
     "user_tz": -330
    },
    "id": "Y0e_8AzlMwaQ"
   },
   "outputs": [],
   "source": [
    "df.to_csv('../rainfall_dataset.csv', index=False)"
   ]
  }
 ],
 "metadata": {
  "colab": {
   "authorship_tag": "ABX9TyMVqug9cv4u7O+6p0hDA4b5",
   "collapsed_sections": [],
   "name": "create_rain_dataset.ipynb",
   "provenance": []
  },
  "kernelspec": {
   "display_name": "Python 3",
   "language": "python",
   "name": "python3"
  },
  "language_info": {
   "codemirror_mode": {
    "name": "ipython",
    "version": 3
   },
   "file_extension": ".py",
   "mimetype": "text/x-python",
   "name": "python",
   "nbconvert_exporter": "python",
   "pygments_lexer": "ipython3",
   "version": "3.7.7"
  }
 },
 "nbformat": 4,
 "nbformat_minor": 1
}
