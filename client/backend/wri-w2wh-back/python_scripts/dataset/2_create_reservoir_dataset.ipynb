{
 "cells": [
  {
   "cell_type": "code",
   "execution_count": 1,
   "metadata": {
    "executionInfo": {
     "elapsed": 52,
     "status": "ok",
     "timestamp": 1624754158133,
     "user": {
      "displayName": "Santanu Bhattacharjee",
      "photoUrl": "",
      "userId": "14679996383546323615"
     },
     "user_tz": -330
    },
    "id": "kPTgIMg8Y2f0"
   },
   "outputs": [],
   "source": [
    "import numpy as np\n",
    "import pandas as pd\n",
    "from tqdm.notebook import tqdm"
   ]
  },
  {
   "cell_type": "code",
   "execution_count": 2,
   "metadata": {
    "colab": {
     "base_uri": "https://localhost:8080/",
     "height": 143
    },
    "executionInfo": {
     "elapsed": 53,
     "status": "ok",
     "timestamp": 1624754158137,
     "user": {
      "displayName": "Santanu Bhattacharjee",
      "photoUrl": "",
      "userId": "14679996383546323615"
     },
     "user_tz": -330
    },
    "id": "o00GR8iwbaKK",
    "outputId": "c5cd611e-a453-49ce-ce58-d73c3ddc42de"
   },
   "outputs": [
    {
     "data": {
      "text/html": [
       "<div>\n",
       "<style scoped>\n",
       "    .dataframe tbody tr th:only-of-type {\n",
       "        vertical-align: middle;\n",
       "    }\n",
       "\n",
       "    .dataframe tbody tr th {\n",
       "        vertical-align: top;\n",
       "    }\n",
       "\n",
       "    .dataframe thead th {\n",
       "        text-align: right;\n",
       "    }\n",
       "</style>\n",
       "<table border=\"1\" class=\"dataframe\">\n",
       "  <thead>\n",
       "    <tr style=\"text-align: right;\">\n",
       "      <th></th>\n",
       "      <th>FLOW_DATE</th>\n",
       "      <th>RESERVOIR</th>\n",
       "      <th>PRESENT_STORAGE_TMC</th>\n",
       "      <th>RES_LEVEL_FT</th>\n",
       "      <th>INFLOW_CUSECS</th>\n",
       "      <th>OUTFLOW_CUECS</th>\n",
       "    </tr>\n",
       "  </thead>\n",
       "  <tbody>\n",
       "    <tr>\n",
       "      <th>0</th>\n",
       "      <td>2011-01-01</td>\n",
       "      <td>Harangi</td>\n",
       "      <td>3.74</td>\n",
       "      <td>2835.90</td>\n",
       "      <td>142</td>\n",
       "      <td>0</td>\n",
       "    </tr>\n",
       "    <tr>\n",
       "      <th>1</th>\n",
       "      <td>2011-01-02</td>\n",
       "      <td>Harangi</td>\n",
       "      <td>3.76</td>\n",
       "      <td>2836.09</td>\n",
       "      <td>239</td>\n",
       "      <td>0</td>\n",
       "    </tr>\n",
       "    <tr>\n",
       "      <th>2</th>\n",
       "      <td>2011-01-03</td>\n",
       "      <td>Harangi</td>\n",
       "      <td>3.77</td>\n",
       "      <td>2836.22</td>\n",
       "      <td>166</td>\n",
       "      <td>0</td>\n",
       "    </tr>\n",
       "  </tbody>\n",
       "</table>\n",
       "</div>"
      ],
      "text/plain": [
       "    FLOW_DATE RESERVOIR  PRESENT_STORAGE_TMC RES_LEVEL_FT INFLOW_CUSECS  \\\n",
       "0  2011-01-01   Harangi                 3.74      2835.90           142   \n",
       "1  2011-01-02   Harangi                 3.76      2836.09           239   \n",
       "2  2011-01-03   Harangi                 3.77      2836.22           166   \n",
       "\n",
       "  OUTFLOW_CUECS  \n",
       "0             0  \n",
       "1             0  \n",
       "2             0  "
      ]
     },
     "execution_count": 2,
     "metadata": {},
     "output_type": "execute_result"
    }
   ],
   "source": [
    "harangi_df = pd.read_csv('reservoir_cleaned/harangi.csv')\n",
    "harangi_df.head(3)"
   ]
  },
  {
   "cell_type": "code",
   "execution_count": 3,
   "metadata": {
    "colab": {
     "base_uri": "https://localhost:8080/",
     "height": 143
    },
    "executionInfo": {
     "elapsed": 52,
     "status": "ok",
     "timestamp": 1624754158139,
     "user": {
      "displayName": "Santanu Bhattacharjee",
      "photoUrl": "",
      "userId": "14679996383546323615"
     },
     "user_tz": -330
    },
    "id": "7iBrhXkqdkGO",
    "outputId": "ebbcddb4-351e-4d6d-f9e0-b9d9afd942d6"
   },
   "outputs": [
    {
     "data": {
      "text/html": [
       "<div>\n",
       "<style scoped>\n",
       "    .dataframe tbody tr th:only-of-type {\n",
       "        vertical-align: middle;\n",
       "    }\n",
       "\n",
       "    .dataframe tbody tr th {\n",
       "        vertical-align: top;\n",
       "    }\n",
       "\n",
       "    .dataframe thead th {\n",
       "        text-align: right;\n",
       "    }\n",
       "</style>\n",
       "<table border=\"1\" class=\"dataframe\">\n",
       "  <thead>\n",
       "    <tr style=\"text-align: right;\">\n",
       "      <th></th>\n",
       "      <th>FLOW_DATE</th>\n",
       "      <th>RESERVOIR</th>\n",
       "      <th>PRESENT_STORAGE_TMC</th>\n",
       "      <th>RES_LEVEL_FT</th>\n",
       "      <th>INFLOW_CUSECS</th>\n",
       "      <th>OUTFLOW_CUECS</th>\n",
       "    </tr>\n",
       "  </thead>\n",
       "  <tbody>\n",
       "    <tr>\n",
       "      <th>0</th>\n",
       "      <td>2011-01-01</td>\n",
       "      <td>Kabini</td>\n",
       "      <td>16.04</td>\n",
       "      <td>2278.22</td>\n",
       "      <td>570</td>\n",
       "      <td>50</td>\n",
       "    </tr>\n",
       "    <tr>\n",
       "      <th>1</th>\n",
       "      <td>2011-01-02</td>\n",
       "      <td>Kabini</td>\n",
       "      <td>16.08</td>\n",
       "      <td>2278.29</td>\n",
       "      <td>570</td>\n",
       "      <td>50</td>\n",
       "    </tr>\n",
       "    <tr>\n",
       "      <th>2</th>\n",
       "      <td>2011-01-03</td>\n",
       "      <td>Kabini</td>\n",
       "      <td>16.12</td>\n",
       "      <td>2278.37</td>\n",
       "      <td>635</td>\n",
       "      <td>50</td>\n",
       "    </tr>\n",
       "  </tbody>\n",
       "</table>\n",
       "</div>"
      ],
      "text/plain": [
       "    FLOW_DATE RESERVOIR  PRESENT_STORAGE_TMC RES_LEVEL_FT INFLOW_CUSECS  \\\n",
       "0  2011-01-01    Kabini                16.04      2278.22           570   \n",
       "1  2011-01-02    Kabini                16.08      2278.29           570   \n",
       "2  2011-01-03    Kabini                16.12      2278.37           635   \n",
       "\n",
       "   OUTFLOW_CUECS  \n",
       "0             50  \n",
       "1             50  \n",
       "2             50  "
      ]
     },
     "execution_count": 3,
     "metadata": {},
     "output_type": "execute_result"
    }
   ],
   "source": [
    "kabini_df = pd.read_csv('reservoir_cleaned/kabini.csv')\n",
    "kabini_df.head(3)"
   ]
  },
  {
   "cell_type": "code",
   "execution_count": 4,
   "metadata": {
    "colab": {
     "base_uri": "https://localhost:8080/",
     "height": 143
    },
    "executionInfo": {
     "elapsed": 51,
     "status": "ok",
     "timestamp": 1624754158141,
     "user": {
      "displayName": "Santanu Bhattacharjee",
      "photoUrl": "",
      "userId": "14679996383546323615"
     },
     "user_tz": -330
    },
    "id": "70K-j_93dxed",
    "outputId": "19a53ea5-0595-4d25-fb4e-b7b1ff9ef11e"
   },
   "outputs": [
    {
     "data": {
      "text/html": [
       "<div>\n",
       "<style scoped>\n",
       "    .dataframe tbody tr th:only-of-type {\n",
       "        vertical-align: middle;\n",
       "    }\n",
       "\n",
       "    .dataframe tbody tr th {\n",
       "        vertical-align: top;\n",
       "    }\n",
       "\n",
       "    .dataframe thead th {\n",
       "        text-align: right;\n",
       "    }\n",
       "</style>\n",
       "<table border=\"1\" class=\"dataframe\">\n",
       "  <thead>\n",
       "    <tr style=\"text-align: right;\">\n",
       "      <th></th>\n",
       "      <th>FLOW_DATE</th>\n",
       "      <th>RESERVOIR</th>\n",
       "      <th>PRESENT_STORAGE_TMC</th>\n",
       "      <th>RES_LEVEL_FT</th>\n",
       "      <th>INFLOW_CUSECS</th>\n",
       "      <th>OUTFLOW_CUECS</th>\n",
       "    </tr>\n",
       "  </thead>\n",
       "  <tbody>\n",
       "    <tr>\n",
       "      <th>0</th>\n",
       "      <td>2011-01-01</td>\n",
       "      <td>Hemavathi</td>\n",
       "      <td>31.60</td>\n",
       "      <td>2916.07</td>\n",
       "      <td>981</td>\n",
       "      <td>2001.0</td>\n",
       "    </tr>\n",
       "    <tr>\n",
       "      <th>1</th>\n",
       "      <td>2011-01-02</td>\n",
       "      <td>Hemavathi</td>\n",
       "      <td>31.50</td>\n",
       "      <td>2915.95</td>\n",
       "      <td>849</td>\n",
       "      <td>1950.0</td>\n",
       "    </tr>\n",
       "    <tr>\n",
       "      <th>2</th>\n",
       "      <td>2011-01-03</td>\n",
       "      <td>Hemavathi</td>\n",
       "      <td>31.39</td>\n",
       "      <td>2915.82</td>\n",
       "      <td>782</td>\n",
       "      <td>1950.0</td>\n",
       "    </tr>\n",
       "  </tbody>\n",
       "</table>\n",
       "</div>"
      ],
      "text/plain": [
       "    FLOW_DATE  RESERVOIR  PRESENT_STORAGE_TMC RES_LEVEL_FT INFLOW_CUSECS  \\\n",
       "0  2011-01-01  Hemavathi                31.60      2916.07           981   \n",
       "1  2011-01-02  Hemavathi                31.50      2915.95           849   \n",
       "2  2011-01-03  Hemavathi                31.39      2915.82           782   \n",
       "\n",
       "   OUTFLOW_CUECS  \n",
       "0         2001.0  \n",
       "1         1950.0  \n",
       "2         1950.0  "
      ]
     },
     "execution_count": 4,
     "metadata": {},
     "output_type": "execute_result"
    }
   ],
   "source": [
    "hemavathi_df = pd.read_csv('reservoir_cleaned/hemavathi.csv')\n",
    "hemavathi_df.head(3)"
   ]
  },
  {
   "cell_type": "code",
   "execution_count": 5,
   "metadata": {
    "colab": {
     "base_uri": "https://localhost:8080/",
     "height": 143
    },
    "executionInfo": {
     "elapsed": 48,
     "status": "ok",
     "timestamp": 1624754158142,
     "user": {
      "displayName": "Santanu Bhattacharjee",
      "photoUrl": "",
      "userId": "14679996383546323615"
     },
     "user_tz": -330
    },
    "id": "VdXvyDXQd3b2",
    "outputId": "7b306449-77e7-40bd-ff6d-6c5265a0cd05"
   },
   "outputs": [
    {
     "data": {
      "text/html": [
       "<div>\n",
       "<style scoped>\n",
       "    .dataframe tbody tr th:only-of-type {\n",
       "        vertical-align: middle;\n",
       "    }\n",
       "\n",
       "    .dataframe tbody tr th {\n",
       "        vertical-align: top;\n",
       "    }\n",
       "\n",
       "    .dataframe thead th {\n",
       "        text-align: right;\n",
       "    }\n",
       "</style>\n",
       "<table border=\"1\" class=\"dataframe\">\n",
       "  <thead>\n",
       "    <tr style=\"text-align: right;\">\n",
       "      <th></th>\n",
       "      <th>FLOW_DATE</th>\n",
       "      <th>RESERVOIR</th>\n",
       "      <th>PRESENT_STORAGE_TMC</th>\n",
       "      <th>RES_LEVEL_FT</th>\n",
       "      <th>INFLOW_CUSECS</th>\n",
       "      <th>OUTFLOW_CUECS</th>\n",
       "    </tr>\n",
       "  </thead>\n",
       "  <tbody>\n",
       "    <tr>\n",
       "      <th>0</th>\n",
       "      <td>2011-01-01</td>\n",
       "      <td>K.R.S</td>\n",
       "      <td>46.42</td>\n",
       "      <td>122.59</td>\n",
       "      <td>2029</td>\n",
       "      <td>2000</td>\n",
       "    </tr>\n",
       "    <tr>\n",
       "      <th>1</th>\n",
       "      <td>2011-01-02</td>\n",
       "      <td>K.R.S</td>\n",
       "      <td>46.54</td>\n",
       "      <td>122.68</td>\n",
       "      <td>3084</td>\n",
       "      <td>1490</td>\n",
       "    </tr>\n",
       "    <tr>\n",
       "      <th>2</th>\n",
       "      <td>2011-01-03</td>\n",
       "      <td>K.R.S</td>\n",
       "      <td>46.64</td>\n",
       "      <td>122.75</td>\n",
       "      <td>2776</td>\n",
       "      <td>1491</td>\n",
       "    </tr>\n",
       "  </tbody>\n",
       "</table>\n",
       "</div>"
      ],
      "text/plain": [
       "    FLOW_DATE RESERVOIR  PRESENT_STORAGE_TMC RES_LEVEL_FT INFLOW_CUSECS  \\\n",
       "0  2011-01-01     K.R.S                46.42       122.59          2029   \n",
       "1  2011-01-02     K.R.S                46.54       122.68          3084   \n",
       "2  2011-01-03     K.R.S                46.64       122.75          2776   \n",
       "\n",
       "   OUTFLOW_CUECS  \n",
       "0           2000  \n",
       "1           1490  \n",
       "2           1491  "
      ]
     },
     "execution_count": 5,
     "metadata": {},
     "output_type": "execute_result"
    }
   ],
   "source": [
    "krs_df = pd.read_csv('reservoir_cleaned/krs.csv')\n",
    "krs_df.head(3)"
   ]
  },
  {
   "cell_type": "code",
   "execution_count": 6,
   "metadata": {
    "colab": {
     "base_uri": "https://localhost:8080/"
    },
    "executionInfo": {
     "elapsed": 47,
     "status": "ok",
     "timestamp": 1624754158143,
     "user": {
      "displayName": "Santanu Bhattacharjee",
      "photoUrl": "",
      "userId": "14679996383546323615"
     },
     "user_tz": -330
    },
    "id": "50hEO9MWeIKw",
    "outputId": "e7b28c78-1b02-4c77-a635-72f0a6880f1e"
   },
   "outputs": [
    {
     "data": {
      "text/plain": [
       "((3312, 6), (3319, 6), (3312, 6), (3311, 6))"
      ]
     },
     "execution_count": 6,
     "metadata": {},
     "output_type": "execute_result"
    }
   ],
   "source": [
    "hemavathi_df.shape, harangi_df.shape, kabini_df.shape, krs_df.shape"
   ]
  },
  {
   "cell_type": "code",
   "execution_count": 7,
   "metadata": {
    "colab": {
     "base_uri": "https://localhost:8080/",
     "height": 424
    },
    "executionInfo": {
     "elapsed": 44,
     "status": "ok",
     "timestamp": 1624754158144,
     "user": {
      "displayName": "Santanu Bhattacharjee",
      "photoUrl": "",
      "userId": "14679996383546323615"
     },
     "user_tz": -330
    },
    "id": "x46l7YMmeXMR",
    "outputId": "368cec68-fa62-4117-dcf0-f1192792f151"
   },
   "outputs": [
    {
     "data": {
      "text/html": [
       "<div>\n",
       "<style scoped>\n",
       "    .dataframe tbody tr th:only-of-type {\n",
       "        vertical-align: middle;\n",
       "    }\n",
       "\n",
       "    .dataframe tbody tr th {\n",
       "        vertical-align: top;\n",
       "    }\n",
       "\n",
       "    .dataframe thead th {\n",
       "        text-align: right;\n",
       "    }\n",
       "</style>\n",
       "<table border=\"1\" class=\"dataframe\">\n",
       "  <thead>\n",
       "    <tr style=\"text-align: right;\">\n",
       "      <th></th>\n",
       "      <th>FLOW_DATE</th>\n",
       "      <th>RESERVOIR</th>\n",
       "      <th>PRESENT_STORAGE_TMC</th>\n",
       "      <th>RES_LEVEL_FT</th>\n",
       "      <th>INFLOW_CUSECS</th>\n",
       "      <th>OUTFLOW_CUECS</th>\n",
       "    </tr>\n",
       "  </thead>\n",
       "  <tbody>\n",
       "    <tr>\n",
       "      <th>0</th>\n",
       "      <td>2011-01-01</td>\n",
       "      <td>Hemavathi</td>\n",
       "      <td>31.60</td>\n",
       "      <td>2916.07</td>\n",
       "      <td>981</td>\n",
       "      <td>2001.0</td>\n",
       "    </tr>\n",
       "    <tr>\n",
       "      <th>1</th>\n",
       "      <td>2011-01-02</td>\n",
       "      <td>Hemavathi</td>\n",
       "      <td>31.50</td>\n",
       "      <td>2915.95</td>\n",
       "      <td>849</td>\n",
       "      <td>1950.0</td>\n",
       "    </tr>\n",
       "    <tr>\n",
       "      <th>2</th>\n",
       "      <td>2011-01-03</td>\n",
       "      <td>Hemavathi</td>\n",
       "      <td>31.39</td>\n",
       "      <td>2915.82</td>\n",
       "      <td>782</td>\n",
       "      <td>1950.0</td>\n",
       "    </tr>\n",
       "    <tr>\n",
       "      <th>3</th>\n",
       "      <td>2011-01-04</td>\n",
       "      <td>Hemavathi</td>\n",
       "      <td>31.34</td>\n",
       "      <td>2915.77</td>\n",
       "      <td>695</td>\n",
       "      <td>1075.0</td>\n",
       "    </tr>\n",
       "    <tr>\n",
       "      <th>4</th>\n",
       "      <td>2011-01-05</td>\n",
       "      <td>Hemavathi</td>\n",
       "      <td>31.34</td>\n",
       "      <td>2915.77</td>\n",
       "      <td>661</td>\n",
       "      <td>550.0</td>\n",
       "    </tr>\n",
       "    <tr>\n",
       "      <th>...</th>\n",
       "      <td>...</td>\n",
       "      <td>...</td>\n",
       "      <td>...</td>\n",
       "      <td>...</td>\n",
       "      <td>...</td>\n",
       "      <td>...</td>\n",
       "    </tr>\n",
       "    <tr>\n",
       "      <th>13249</th>\n",
       "      <td>2020-12-12</td>\n",
       "      <td>K.R.S</td>\n",
       "      <td>43.04</td>\n",
       "      <td>120</td>\n",
       "      <td>3496</td>\n",
       "      <td>3308</td>\n",
       "    </tr>\n",
       "    <tr>\n",
       "      <th>13250</th>\n",
       "      <td>2020-12-13</td>\n",
       "      <td>K.R.S</td>\n",
       "      <td>43.02</td>\n",
       "      <td>119.98</td>\n",
       "      <td>3197</td>\n",
       "      <td>3300</td>\n",
       "    </tr>\n",
       "    <tr>\n",
       "      <th>13251</th>\n",
       "      <td>2020-12-14</td>\n",
       "      <td>K.R.S</td>\n",
       "      <td>42.98</td>\n",
       "      <td>119.95</td>\n",
       "      <td>3026</td>\n",
       "      <td>3273</td>\n",
       "    </tr>\n",
       "    <tr>\n",
       "      <th>13252</th>\n",
       "      <td>2020-12-15</td>\n",
       "      <td>K.R.S</td>\n",
       "      <td>42.92</td>\n",
       "      <td>119.90</td>\n",
       "      <td>2530</td>\n",
       "      <td>3068</td>\n",
       "    </tr>\n",
       "    <tr>\n",
       "      <th>13253</th>\n",
       "      <td>2020-12-16</td>\n",
       "      <td>K.R.S</td>\n",
       "      <td>42.83</td>\n",
       "      <td>119.83</td>\n",
       "      <td>2416</td>\n",
       "      <td>3243</td>\n",
       "    </tr>\n",
       "  </tbody>\n",
       "</table>\n",
       "<p>13254 rows × 6 columns</p>\n",
       "</div>"
      ],
      "text/plain": [
       "        FLOW_DATE  RESERVOIR  PRESENT_STORAGE_TMC RES_LEVEL_FT INFLOW_CUSECS  \\\n",
       "0      2011-01-01  Hemavathi                31.60      2916.07           981   \n",
       "1      2011-01-02  Hemavathi                31.50      2915.95           849   \n",
       "2      2011-01-03  Hemavathi                31.39      2915.82           782   \n",
       "3      2011-01-04  Hemavathi                31.34      2915.77           695   \n",
       "4      2011-01-05  Hemavathi                31.34      2915.77           661   \n",
       "...           ...        ...                  ...          ...           ...   \n",
       "13249  2020-12-12      K.R.S                43.04          120          3496   \n",
       "13250  2020-12-13      K.R.S                43.02       119.98          3197   \n",
       "13251  2020-12-14      K.R.S                42.98       119.95          3026   \n",
       "13252  2020-12-15      K.R.S                42.92       119.90          2530   \n",
       "13253  2020-12-16      K.R.S                42.83       119.83          2416   \n",
       "\n",
       "      OUTFLOW_CUECS  \n",
       "0            2001.0  \n",
       "1            1950.0  \n",
       "2            1950.0  \n",
       "3            1075.0  \n",
       "4             550.0  \n",
       "...             ...  \n",
       "13249          3308  \n",
       "13250          3300  \n",
       "13251          3273  \n",
       "13252          3068  \n",
       "13253          3243  \n",
       "\n",
       "[13254 rows x 6 columns]"
      ]
     },
     "execution_count": 7,
     "metadata": {},
     "output_type": "execute_result"
    }
   ],
   "source": [
    "df = pd.concat([hemavathi_df, harangi_df, kabini_df, krs_df], ignore_index=True)\n",
    "df"
   ]
  },
  {
   "cell_type": "code",
   "execution_count": 8,
   "metadata": {
    "colab": {
     "base_uri": "https://localhost:8080/",
     "height": 206
    },
    "executionInfo": {
     "elapsed": 42,
     "status": "ok",
     "timestamp": 1624754158145,
     "user": {
      "displayName": "Santanu Bhattacharjee",
      "photoUrl": "",
      "userId": "14679996383546323615"
     },
     "user_tz": -330
    },
    "id": "13914g_SehtM",
    "outputId": "d57c5efb-4594-42ef-b8bf-c69840febd1e"
   },
   "outputs": [
    {
     "data": {
      "text/html": [
       "<div>\n",
       "<style scoped>\n",
       "    .dataframe tbody tr th:only-of-type {\n",
       "        vertical-align: middle;\n",
       "    }\n",
       "\n",
       "    .dataframe tbody tr th {\n",
       "        vertical-align: top;\n",
       "    }\n",
       "\n",
       "    .dataframe thead th {\n",
       "        text-align: right;\n",
       "    }\n",
       "</style>\n",
       "<table border=\"1\" class=\"dataframe\">\n",
       "  <thead>\n",
       "    <tr style=\"text-align: right;\">\n",
       "      <th></th>\n",
       "      <th>FLOW_DATE</th>\n",
       "      <th>RESERVOIR</th>\n",
       "      <th>PRESENT_STORAGE_TMC</th>\n",
       "      <th>RES_LEVEL_FT</th>\n",
       "      <th>INFLOW_CUSECS</th>\n",
       "      <th>OUTFLOW_CUECS</th>\n",
       "      <th>YEAR</th>\n",
       "      <th>MONTH</th>\n",
       "      <th>DATE</th>\n",
       "    </tr>\n",
       "  </thead>\n",
       "  <tbody>\n",
       "    <tr>\n",
       "      <th>0</th>\n",
       "      <td>2011-01-01</td>\n",
       "      <td>Hemavathi</td>\n",
       "      <td>31.60</td>\n",
       "      <td>2916.07</td>\n",
       "      <td>981</td>\n",
       "      <td>2001.0</td>\n",
       "      <td>2011</td>\n",
       "      <td>01</td>\n",
       "      <td>01</td>\n",
       "    </tr>\n",
       "    <tr>\n",
       "      <th>1</th>\n",
       "      <td>2011-01-02</td>\n",
       "      <td>Hemavathi</td>\n",
       "      <td>31.50</td>\n",
       "      <td>2915.95</td>\n",
       "      <td>849</td>\n",
       "      <td>1950.0</td>\n",
       "      <td>2011</td>\n",
       "      <td>01</td>\n",
       "      <td>02</td>\n",
       "    </tr>\n",
       "    <tr>\n",
       "      <th>2</th>\n",
       "      <td>2011-01-03</td>\n",
       "      <td>Hemavathi</td>\n",
       "      <td>31.39</td>\n",
       "      <td>2915.82</td>\n",
       "      <td>782</td>\n",
       "      <td>1950.0</td>\n",
       "      <td>2011</td>\n",
       "      <td>01</td>\n",
       "      <td>03</td>\n",
       "    </tr>\n",
       "    <tr>\n",
       "      <th>3</th>\n",
       "      <td>2011-01-04</td>\n",
       "      <td>Hemavathi</td>\n",
       "      <td>31.34</td>\n",
       "      <td>2915.77</td>\n",
       "      <td>695</td>\n",
       "      <td>1075.0</td>\n",
       "      <td>2011</td>\n",
       "      <td>01</td>\n",
       "      <td>04</td>\n",
       "    </tr>\n",
       "    <tr>\n",
       "      <th>4</th>\n",
       "      <td>2011-01-05</td>\n",
       "      <td>Hemavathi</td>\n",
       "      <td>31.34</td>\n",
       "      <td>2915.77</td>\n",
       "      <td>661</td>\n",
       "      <td>550.0</td>\n",
       "      <td>2011</td>\n",
       "      <td>01</td>\n",
       "      <td>05</td>\n",
       "    </tr>\n",
       "  </tbody>\n",
       "</table>\n",
       "</div>"
      ],
      "text/plain": [
       "    FLOW_DATE  RESERVOIR  PRESENT_STORAGE_TMC RES_LEVEL_FT INFLOW_CUSECS  \\\n",
       "0  2011-01-01  Hemavathi                31.60      2916.07           981   \n",
       "1  2011-01-02  Hemavathi                31.50      2915.95           849   \n",
       "2  2011-01-03  Hemavathi                31.39      2915.82           782   \n",
       "3  2011-01-04  Hemavathi                31.34      2915.77           695   \n",
       "4  2011-01-05  Hemavathi                31.34      2915.77           661   \n",
       "\n",
       "  OUTFLOW_CUECS  YEAR MONTH DATE  \n",
       "0        2001.0  2011    01   01  \n",
       "1        1950.0  2011    01   02  \n",
       "2        1950.0  2011    01   03  \n",
       "3        1075.0  2011    01   04  \n",
       "4         550.0  2011    01   05  "
      ]
     },
     "execution_count": 8,
     "metadata": {},
     "output_type": "execute_result"
    }
   ],
   "source": [
    "df['YEAR'] = df['FLOW_DATE'].str[:4]\n",
    "df['MONTH'] = df['FLOW_DATE'].str[5:7]\n",
    "df['DATE'] = df['FLOW_DATE'].str[8:]\n",
    "df.head()"
   ]
  },
  {
   "cell_type": "code",
   "execution_count": 9,
   "metadata": {
    "colab": {
     "base_uri": "https://localhost:8080/",
     "height": 424
    },
    "executionInfo": {
     "elapsed": 41,
     "status": "ok",
     "timestamp": 1624754158146,
     "user": {
      "displayName": "Santanu Bhattacharjee",
      "photoUrl": "",
      "userId": "14679996383546323615"
     },
     "user_tz": -330
    },
    "id": "GTBUzW8OfNP8",
    "outputId": "99b16f01-a7b2-40ac-90db-3ca075fea9e2"
   },
   "outputs": [
    {
     "data": {
      "text/html": [
       "<div>\n",
       "<style scoped>\n",
       "    .dataframe tbody tr th:only-of-type {\n",
       "        vertical-align: middle;\n",
       "    }\n",
       "\n",
       "    .dataframe tbody tr th {\n",
       "        vertical-align: top;\n",
       "    }\n",
       "\n",
       "    .dataframe thead th {\n",
       "        text-align: right;\n",
       "    }\n",
       "</style>\n",
       "<table border=\"1\" class=\"dataframe\">\n",
       "  <thead>\n",
       "    <tr style=\"text-align: right;\">\n",
       "      <th></th>\n",
       "      <th>DAY</th>\n",
       "      <th>MONTH</th>\n",
       "      <th>DATE</th>\n",
       "    </tr>\n",
       "  </thead>\n",
       "  <tbody>\n",
       "    <tr>\n",
       "      <th>0</th>\n",
       "      <td>0</td>\n",
       "      <td>01</td>\n",
       "      <td>01</td>\n",
       "    </tr>\n",
       "    <tr>\n",
       "      <th>1</th>\n",
       "      <td>1</td>\n",
       "      <td>01</td>\n",
       "      <td>02</td>\n",
       "    </tr>\n",
       "    <tr>\n",
       "      <th>2</th>\n",
       "      <td>2</td>\n",
       "      <td>01</td>\n",
       "      <td>03</td>\n",
       "    </tr>\n",
       "    <tr>\n",
       "      <th>3</th>\n",
       "      <td>3</td>\n",
       "      <td>01</td>\n",
       "      <td>04</td>\n",
       "    </tr>\n",
       "    <tr>\n",
       "      <th>4</th>\n",
       "      <td>4</td>\n",
       "      <td>01</td>\n",
       "      <td>05</td>\n",
       "    </tr>\n",
       "    <tr>\n",
       "      <th>...</th>\n",
       "      <td>...</td>\n",
       "      <td>...</td>\n",
       "      <td>...</td>\n",
       "    </tr>\n",
       "    <tr>\n",
       "      <th>361</th>\n",
       "      <td>361</td>\n",
       "      <td>12</td>\n",
       "      <td>28</td>\n",
       "    </tr>\n",
       "    <tr>\n",
       "      <th>362</th>\n",
       "      <td>362</td>\n",
       "      <td>12</td>\n",
       "      <td>29</td>\n",
       "    </tr>\n",
       "    <tr>\n",
       "      <th>363</th>\n",
       "      <td>363</td>\n",
       "      <td>12</td>\n",
       "      <td>30</td>\n",
       "    </tr>\n",
       "    <tr>\n",
       "      <th>364</th>\n",
       "      <td>364</td>\n",
       "      <td>12</td>\n",
       "      <td>31</td>\n",
       "    </tr>\n",
       "    <tr>\n",
       "      <th>365</th>\n",
       "      <td>365</td>\n",
       "      <td>02</td>\n",
       "      <td>29</td>\n",
       "    </tr>\n",
       "  </tbody>\n",
       "</table>\n",
       "<p>366 rows × 3 columns</p>\n",
       "</div>"
      ],
      "text/plain": [
       "     DAY MONTH DATE\n",
       "0      0    01   01\n",
       "1      1    01   02\n",
       "2      2    01   03\n",
       "3      3    01   04\n",
       "4      4    01   05\n",
       "..   ...   ...  ...\n",
       "361  361    12   28\n",
       "362  362    12   29\n",
       "363  363    12   30\n",
       "364  364    12   31\n",
       "365  365    02   29\n",
       "\n",
       "[366 rows x 3 columns]"
      ]
     },
     "execution_count": 9,
     "metadata": {},
     "output_type": "execute_result"
    }
   ],
   "source": [
    "day_df = df[['MONTH', 'DATE']].drop_duplicates().reset_index(drop=True).reset_index()\n",
    "day_df.rename(columns={'index': 'DAY'}, inplace=True)\n",
    "day_df"
   ]
  },
  {
   "cell_type": "code",
   "execution_count": 10,
   "metadata": {
    "colab": {
     "base_uri": "https://localhost:8080/",
     "height": 424
    },
    "executionInfo": {
     "elapsed": 38,
     "status": "ok",
     "timestamp": 1624754158146,
     "user": {
      "displayName": "Santanu Bhattacharjee",
      "photoUrl": "",
      "userId": "14679996383546323615"
     },
     "user_tz": -330
    },
    "id": "NfWy4vONqffu",
    "outputId": "82b0d350-6cb3-4435-8a9c-6b0cede49725"
   },
   "outputs": [
    {
     "data": {
      "text/html": [
       "<div>\n",
       "<style scoped>\n",
       "    .dataframe tbody tr th:only-of-type {\n",
       "        vertical-align: middle;\n",
       "    }\n",
       "\n",
       "    .dataframe tbody tr th {\n",
       "        vertical-align: top;\n",
       "    }\n",
       "\n",
       "    .dataframe thead th {\n",
       "        text-align: right;\n",
       "    }\n",
       "</style>\n",
       "<table border=\"1\" class=\"dataframe\">\n",
       "  <thead>\n",
       "    <tr style=\"text-align: right;\">\n",
       "      <th></th>\n",
       "      <th>FLOW_DATE</th>\n",
       "      <th>RESERVOIR</th>\n",
       "      <th>PRESENT_STORAGE_TMC</th>\n",
       "      <th>RES_LEVEL_FT</th>\n",
       "      <th>INFLOW_CUSECS</th>\n",
       "      <th>OUTFLOW_CUECS</th>\n",
       "      <th>YEAR</th>\n",
       "      <th>MONTH</th>\n",
       "      <th>DATE</th>\n",
       "      <th>DAY</th>\n",
       "    </tr>\n",
       "  </thead>\n",
       "  <tbody>\n",
       "    <tr>\n",
       "      <th>0</th>\n",
       "      <td>2011-01-01</td>\n",
       "      <td>Hemavathi</td>\n",
       "      <td>31.60</td>\n",
       "      <td>2916.07</td>\n",
       "      <td>981</td>\n",
       "      <td>2001.0</td>\n",
       "      <td>2011</td>\n",
       "      <td>01</td>\n",
       "      <td>01</td>\n",
       "      <td>0</td>\n",
       "    </tr>\n",
       "    <tr>\n",
       "      <th>1</th>\n",
       "      <td>2012-01-01</td>\n",
       "      <td>Hemavathi</td>\n",
       "      <td>12.48</td>\n",
       "      <td>2886.90</td>\n",
       "      <td>111</td>\n",
       "      <td>4488.0</td>\n",
       "      <td>2012</td>\n",
       "      <td>01</td>\n",
       "      <td>01</td>\n",
       "      <td>0</td>\n",
       "    </tr>\n",
       "    <tr>\n",
       "      <th>2</th>\n",
       "      <td>2014-01-01</td>\n",
       "      <td>Hemavathi</td>\n",
       "      <td>11.64</td>\n",
       "      <td>2884.84</td>\n",
       "      <td>125</td>\n",
       "      <td>3225.0</td>\n",
       "      <td>2014</td>\n",
       "      <td>01</td>\n",
       "      <td>01</td>\n",
       "      <td>0</td>\n",
       "    </tr>\n",
       "    <tr>\n",
       "      <th>3</th>\n",
       "      <td>2015-01-01</td>\n",
       "      <td>Hemavathi</td>\n",
       "      <td>24.04</td>\n",
       "      <td>2906.38</td>\n",
       "      <td>104</td>\n",
       "      <td>4325.0</td>\n",
       "      <td>2015</td>\n",
       "      <td>01</td>\n",
       "      <td>01</td>\n",
       "      <td>0</td>\n",
       "    </tr>\n",
       "    <tr>\n",
       "      <th>4</th>\n",
       "      <td>2016-01-01</td>\n",
       "      <td>Hemavathi</td>\n",
       "      <td>6.23</td>\n",
       "      <td>2869.10</td>\n",
       "      <td>163</td>\n",
       "      <td>125.0</td>\n",
       "      <td>2016</td>\n",
       "      <td>01</td>\n",
       "      <td>01</td>\n",
       "      <td>0</td>\n",
       "    </tr>\n",
       "    <tr>\n",
       "      <th>...</th>\n",
       "      <td>...</td>\n",
       "      <td>...</td>\n",
       "      <td>...</td>\n",
       "      <td>...</td>\n",
       "      <td>...</td>\n",
       "      <td>...</td>\n",
       "      <td>...</td>\n",
       "      <td>...</td>\n",
       "      <td>...</td>\n",
       "      <td>...</td>\n",
       "    </tr>\n",
       "    <tr>\n",
       "      <th>13249</th>\n",
       "      <td>2020-02-29</td>\n",
       "      <td>Harangi</td>\n",
       "      <td>3.54</td>\n",
       "      <td>2834</td>\n",
       "      <td>40</td>\n",
       "      <td>40</td>\n",
       "      <td>2020</td>\n",
       "      <td>02</td>\n",
       "      <td>29</td>\n",
       "      <td>365</td>\n",
       "    </tr>\n",
       "    <tr>\n",
       "      <th>13250</th>\n",
       "      <td>2016-02-29</td>\n",
       "      <td>Kabini</td>\n",
       "      <td>8.35</td>\n",
       "      <td>2262.62</td>\n",
       "      <td>118</td>\n",
       "      <td>1000</td>\n",
       "      <td>2016</td>\n",
       "      <td>02</td>\n",
       "      <td>29</td>\n",
       "      <td>365</td>\n",
       "    </tr>\n",
       "    <tr>\n",
       "      <th>13251</th>\n",
       "      <td>2020-02-29</td>\n",
       "      <td>Kabini</td>\n",
       "      <td>15.48</td>\n",
       "      <td>2277.20</td>\n",
       "      <td>112</td>\n",
       "      <td>1700</td>\n",
       "      <td>2020</td>\n",
       "      <td>02</td>\n",
       "      <td>29</td>\n",
       "      <td>365</td>\n",
       "    </tr>\n",
       "    <tr>\n",
       "      <th>13252</th>\n",
       "      <td>2016-02-29</td>\n",
       "      <td>K.R.S</td>\n",
       "      <td>17.98</td>\n",
       "      <td>93.27</td>\n",
       "      <td>370</td>\n",
       "      <td>584</td>\n",
       "      <td>2016</td>\n",
       "      <td>02</td>\n",
       "      <td>29</td>\n",
       "      <td>365</td>\n",
       "    </tr>\n",
       "    <tr>\n",
       "      <th>13253</th>\n",
       "      <td>2020-02-29</td>\n",
       "      <td>K.R.S</td>\n",
       "      <td>33.07</td>\n",
       "      <td>111.32</td>\n",
       "      <td>248</td>\n",
       "      <td>3721</td>\n",
       "      <td>2020</td>\n",
       "      <td>02</td>\n",
       "      <td>29</td>\n",
       "      <td>365</td>\n",
       "    </tr>\n",
       "  </tbody>\n",
       "</table>\n",
       "<p>13254 rows × 10 columns</p>\n",
       "</div>"
      ],
      "text/plain": [
       "        FLOW_DATE  RESERVOIR  PRESENT_STORAGE_TMC RES_LEVEL_FT INFLOW_CUSECS  \\\n",
       "0      2011-01-01  Hemavathi                31.60      2916.07           981   \n",
       "1      2012-01-01  Hemavathi                12.48      2886.90           111   \n",
       "2      2014-01-01  Hemavathi                11.64      2884.84           125   \n",
       "3      2015-01-01  Hemavathi                24.04      2906.38           104   \n",
       "4      2016-01-01  Hemavathi                 6.23      2869.10           163   \n",
       "...           ...        ...                  ...          ...           ...   \n",
       "13249  2020-02-29    Harangi                 3.54         2834            40   \n",
       "13250  2016-02-29     Kabini                 8.35      2262.62           118   \n",
       "13251  2020-02-29     Kabini                15.48      2277.20           112   \n",
       "13252  2016-02-29      K.R.S                17.98        93.27           370   \n",
       "13253  2020-02-29      K.R.S                33.07       111.32           248   \n",
       "\n",
       "      OUTFLOW_CUECS  YEAR MONTH DATE  DAY  \n",
       "0            2001.0  2011    01   01    0  \n",
       "1            4488.0  2012    01   01    0  \n",
       "2            3225.0  2014    01   01    0  \n",
       "3            4325.0  2015    01   01    0  \n",
       "4             125.0  2016    01   01    0  \n",
       "...             ...   ...   ...  ...  ...  \n",
       "13249            40  2020    02   29  365  \n",
       "13250          1000  2016    02   29  365  \n",
       "13251          1700  2020    02   29  365  \n",
       "13252           584  2016    02   29  365  \n",
       "13253          3721  2020    02   29  365  \n",
       "\n",
       "[13254 rows x 10 columns]"
      ]
     },
     "execution_count": 10,
     "metadata": {},
     "output_type": "execute_result"
    }
   ],
   "source": [
    "df = df.merge(day_df, on=['MONTH', 'DATE'])\n",
    "df"
   ]
  },
  {
   "cell_type": "code",
   "execution_count": 11,
   "metadata": {
    "colab": {
     "base_uri": "https://localhost:8080/"
    },
    "executionInfo": {
     "elapsed": 38,
     "status": "ok",
     "timestamp": 1624754158149,
     "user": {
      "displayName": "Santanu Bhattacharjee",
      "photoUrl": "",
      "userId": "14679996383546323615"
     },
     "user_tz": -330
    },
    "id": "_z6WlDMGXTyL",
    "outputId": "298b0e38-8f2b-402b-e135-fa513b369ce9"
   },
   "outputs": [
    {
     "name": "stdout",
     "output_type": "stream",
     "text": [
      "<class 'pandas.core.frame.DataFrame'>\n",
      "Int64Index: 13254 entries, 0 to 13253\n",
      "Data columns (total 10 columns):\n",
      " #   Column               Non-Null Count  Dtype  \n",
      "---  ------               --------------  -----  \n",
      " 0   FLOW_DATE            13254 non-null  object \n",
      " 1   RESERVOIR            13254 non-null  object \n",
      " 2   PRESENT_STORAGE_TMC  13254 non-null  float64\n",
      " 3   RES_LEVEL_FT         13254 non-null  object \n",
      " 4   INFLOW_CUSECS        13254 non-null  object \n",
      " 5   OUTFLOW_CUECS        13254 non-null  object \n",
      " 6   YEAR                 13254 non-null  object \n",
      " 7   MONTH                13254 non-null  object \n",
      " 8   DATE                 13254 non-null  object \n",
      " 9   DAY                  13254 non-null  int64  \n",
      "dtypes: float64(1), int64(1), object(8)\n",
      "memory usage: 1.1+ MB\n"
     ]
    }
   ],
   "source": [
    "df.info()"
   ]
  },
  {
   "cell_type": "code",
   "execution_count": 12,
   "metadata": {
    "colab": {
     "base_uri": "https://localhost:8080/",
     "height": 175
    },
    "executionInfo": {
     "elapsed": 36,
     "status": "ok",
     "timestamp": 1624754158150,
     "user": {
      "displayName": "Santanu Bhattacharjee",
      "photoUrl": "",
      "userId": "14679996383546323615"
     },
     "user_tz": -330
    },
    "id": "LL3bNnlblook",
    "outputId": "d4cc721b-3e47-4015-a909-67fc4a998bb3"
   },
   "outputs": [
    {
     "data": {
      "text/html": [
       "<div>\n",
       "<style scoped>\n",
       "    .dataframe tbody tr th:only-of-type {\n",
       "        vertical-align: middle;\n",
       "    }\n",
       "\n",
       "    .dataframe tbody tr th {\n",
       "        vertical-align: top;\n",
       "    }\n",
       "\n",
       "    .dataframe thead th {\n",
       "        text-align: right;\n",
       "    }\n",
       "</style>\n",
       "<table border=\"1\" class=\"dataframe\">\n",
       "  <thead>\n",
       "    <tr style=\"text-align: right;\">\n",
       "      <th></th>\n",
       "      <th>FLOW_DATE</th>\n",
       "      <th>RESERVOIR</th>\n",
       "      <th>PRESENT_STORAGE_TMC</th>\n",
       "      <th>RES_LEVEL_FT</th>\n",
       "      <th>INFLOW_CUSECS</th>\n",
       "      <th>OUTFLOW_CUECS</th>\n",
       "      <th>YEAR</th>\n",
       "      <th>MONTH</th>\n",
       "      <th>DATE</th>\n",
       "      <th>DAY</th>\n",
       "    </tr>\n",
       "  </thead>\n",
       "  <tbody>\n",
       "    <tr>\n",
       "      <th>4352</th>\n",
       "      <td>2014-05-15</td>\n",
       "      <td>Hemavathi</td>\n",
       "      <td>0.0</td>\n",
       "      <td>&amp;nbsp;</td>\n",
       "      <td>&amp;nbsp;</td>\n",
       "      <td>0.0</td>\n",
       "      <td>2014</td>\n",
       "      <td>05</td>\n",
       "      <td>15</td>\n",
       "      <td>134</td>\n",
       "    </tr>\n",
       "    <tr>\n",
       "      <th>4360</th>\n",
       "      <td>2014-05-15</td>\n",
       "      <td>Harangi</td>\n",
       "      <td>0.0</td>\n",
       "      <td>&amp;nbsp;</td>\n",
       "      <td>&amp;nbsp;</td>\n",
       "      <td>0</td>\n",
       "      <td>2014</td>\n",
       "      <td>05</td>\n",
       "      <td>15</td>\n",
       "      <td>134</td>\n",
       "    </tr>\n",
       "    <tr>\n",
       "      <th>4368</th>\n",
       "      <td>2014-05-15</td>\n",
       "      <td>Kabini</td>\n",
       "      <td>0.0</td>\n",
       "      <td>&amp;nbsp;</td>\n",
       "      <td>&amp;nbsp;</td>\n",
       "      <td>0</td>\n",
       "      <td>2014</td>\n",
       "      <td>05</td>\n",
       "      <td>15</td>\n",
       "      <td>134</td>\n",
       "    </tr>\n",
       "    <tr>\n",
       "      <th>4376</th>\n",
       "      <td>2014-05-15</td>\n",
       "      <td>K.R.S</td>\n",
       "      <td>0.0</td>\n",
       "      <td>&amp;nbsp;</td>\n",
       "      <td>&amp;nbsp;</td>\n",
       "      <td>0</td>\n",
       "      <td>2014</td>\n",
       "      <td>05</td>\n",
       "      <td>15</td>\n",
       "      <td>134</td>\n",
       "    </tr>\n",
       "  </tbody>\n",
       "</table>\n",
       "</div>"
      ],
      "text/plain": [
       "       FLOW_DATE  RESERVOIR  PRESENT_STORAGE_TMC RES_LEVEL_FT INFLOW_CUSECS  \\\n",
       "4352  2014-05-15  Hemavathi                  0.0       &nbsp;        &nbsp;   \n",
       "4360  2014-05-15    Harangi                  0.0       &nbsp;        &nbsp;   \n",
       "4368  2014-05-15     Kabini                  0.0       &nbsp;        &nbsp;   \n",
       "4376  2014-05-15      K.R.S                  0.0       &nbsp;        &nbsp;   \n",
       "\n",
       "     OUTFLOW_CUECS  YEAR MONTH DATE  DAY  \n",
       "4352           0.0  2014    05   15  134  \n",
       "4360             0  2014    05   15  134  \n",
       "4368             0  2014    05   15  134  \n",
       "4376             0  2014    05   15  134  "
      ]
     },
     "execution_count": 12,
     "metadata": {},
     "output_type": "execute_result"
    }
   ],
   "source": [
    "df[df['INFLOW_CUSECS'] == '&nbsp;']"
   ]
  },
  {
   "cell_type": "code",
   "execution_count": 13,
   "metadata": {
    "colab": {
     "base_uri": "https://localhost:8080/",
     "height": 81
    },
    "executionInfo": {
     "elapsed": 569,
     "status": "ok",
     "timestamp": 1624754158685,
     "user": {
      "displayName": "Santanu Bhattacharjee",
      "photoUrl": "",
      "userId": "14679996383546323615"
     },
     "user_tz": -330
    },
    "id": "eoY2MXwMmSi7",
    "outputId": "d4205a3f-268e-4b0e-ae4a-8b8ad1e5d32f"
   },
   "outputs": [
    {
     "data": {
      "text/html": [
       "<div>\n",
       "<style scoped>\n",
       "    .dataframe tbody tr th:only-of-type {\n",
       "        vertical-align: middle;\n",
       "    }\n",
       "\n",
       "    .dataframe tbody tr th {\n",
       "        vertical-align: top;\n",
       "    }\n",
       "\n",
       "    .dataframe thead th {\n",
       "        text-align: right;\n",
       "    }\n",
       "</style>\n",
       "<table border=\"1\" class=\"dataframe\">\n",
       "  <thead>\n",
       "    <tr style=\"text-align: right;\">\n",
       "      <th></th>\n",
       "      <th>FLOW_DATE</th>\n",
       "      <th>RESERVOIR</th>\n",
       "      <th>PRESENT_STORAGE_TMC</th>\n",
       "      <th>RES_LEVEL_FT</th>\n",
       "      <th>INFLOW_CUSECS</th>\n",
       "      <th>OUTFLOW_CUECS</th>\n",
       "      <th>YEAR</th>\n",
       "      <th>MONTH</th>\n",
       "      <th>DATE</th>\n",
       "      <th>DAY</th>\n",
       "    </tr>\n",
       "  </thead>\n",
       "  <tbody>\n",
       "    <tr>\n",
       "      <th>526</th>\n",
       "      <td>2015-01-17</td>\n",
       "      <td>Harangi</td>\n",
       "      <td>0.87</td>\n",
       "      <td>2791.38</td>\n",
       "      <td>96</td>\n",
       "      <td></td>\n",
       "      <td>2015</td>\n",
       "      <td>01</td>\n",
       "      <td>17</td>\n",
       "      <td>16</td>\n",
       "    </tr>\n",
       "  </tbody>\n",
       "</table>\n",
       "</div>"
      ],
      "text/plain": [
       "      FLOW_DATE RESERVOIR  PRESENT_STORAGE_TMC RES_LEVEL_FT INFLOW_CUSECS  \\\n",
       "526  2015-01-17   Harangi                 0.87      2791.38            96   \n",
       "\n",
       "    OUTFLOW_CUECS  YEAR MONTH DATE  DAY  \n",
       "526                2015    01   17   16  "
      ]
     },
     "execution_count": 13,
     "metadata": {},
     "output_type": "execute_result"
    }
   ],
   "source": [
    "df[df['OUTFLOW_CUECS'] == ' ']"
   ]
  },
  {
   "cell_type": "code",
   "execution_count": 14,
   "metadata": {
    "executionInfo": {
     "elapsed": 12,
     "status": "ok",
     "timestamp": 1624754158686,
     "user": {
      "displayName": "Santanu Bhattacharjee",
      "photoUrl": "",
      "userId": "14679996383546323615"
     },
     "user_tz": -330
    },
    "id": "kukCNjsy4jgq"
   },
   "outputs": [],
   "source": [
    "for idx in df[df['INFLOW_CUSECS'] == '&nbsp;'].index:\n",
    "    df.loc[idx, 'INFLOW_CUSECS'] = 0\n",
    "\n",
    "for idx in df[df['OUTFLOW_CUECS'] == ' '].index:\n",
    "    df.loc[idx, 'OUTFLOW_CUECS'] = 0"
   ]
  },
  {
   "cell_type": "code",
   "execution_count": 15,
   "metadata": {
    "executionInfo": {
     "elapsed": 12,
     "status": "ok",
     "timestamp": 1624754158687,
     "user": {
      "displayName": "Santanu Bhattacharjee",
      "photoUrl": "",
      "userId": "14679996383546323615"
     },
     "user_tz": -330
    },
    "id": "AoAZi-zAm-n4"
   },
   "outputs": [],
   "source": [
    "df['INFLOW_CUSECS'] = df['INFLOW_CUSECS'].astype(float)\n",
    "df['OUTFLOW_CUECS'] = df['OUTFLOW_CUECS'].astype(float)"
   ]
  },
  {
   "cell_type": "code",
   "execution_count": 16,
   "metadata": {
    "colab": {
     "base_uri": "https://localhost:8080/"
    },
    "executionInfo": {
     "elapsed": 12,
     "status": "ok",
     "timestamp": 1624754158687,
     "user": {
      "displayName": "Santanu Bhattacharjee",
      "photoUrl": "",
      "userId": "14679996383546323615"
     },
     "user_tz": -330
    },
    "id": "Sf1qX813sJan",
    "outputId": "4c3faba8-f3a5-44e1-8e9f-bb286c4d9426"
   },
   "outputs": [
    {
     "data": {
      "text/plain": [
       "(13242, 10)"
      ]
     },
     "execution_count": 16,
     "metadata": {},
     "output_type": "execute_result"
    }
   ],
   "source": [
    "df.drop_duplicates(inplace=True)\n",
    "df.shape"
   ]
  },
  {
   "cell_type": "code",
   "execution_count": 17,
   "metadata": {
    "executionInfo": {
     "elapsed": 10,
     "status": "ok",
     "timestamp": 1624754158688,
     "user": {
      "displayName": "Santanu Bhattacharjee",
      "photoUrl": "",
      "userId": "14679996383546323615"
     },
     "user_tz": -330
    },
    "id": "xlYUYLYYwjXn"
   },
   "outputs": [],
   "source": [
    "df.to_csv('reservoir_dataset.csv', index=False)"
   ]
  }
 ],
 "metadata": {
  "colab": {
   "authorship_tag": "ABX9TyNFnXaor5KlXxdusxM+O3V0",
   "collapsed_sections": [],
   "mount_file_id": "1S7DP7hQ86twPZ8m5y4tsFVD9HbhE3NbV",
   "name": "Copy of 2_create_final_dataset.ipynb",
   "provenance": []
  },
  "kernelspec": {
   "display_name": "Python 3",
   "language": "python",
   "name": "python3"
  },
  "language_info": {
   "codemirror_mode": {
    "name": "ipython",
    "version": 3
   },
   "file_extension": ".py",
   "mimetype": "text/x-python",
   "name": "python",
   "nbconvert_exporter": "python",
   "pygments_lexer": "ipython3",
   "version": "3.7.7"
  }
 },
 "nbformat": 4,
 "nbformat_minor": 1
}
