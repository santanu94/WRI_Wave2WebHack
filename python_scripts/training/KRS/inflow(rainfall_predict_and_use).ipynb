{
 "cells": [
  {
   "cell_type": "code",
   "execution_count": 1,
   "metadata": {
    "colab": {
     "base_uri": "https://localhost:8080/"
    },
    "executionInfo": {
     "elapsed": 789,
     "status": "ok",
     "timestamp": 1625692721746,
     "user": {
      "displayName": "Santanu Bhattacharjee",
      "photoUrl": "",
      "userId": "14679996383546323615"
     },
     "user_tz": -330
    },
    "id": "t918SPbyAORS",
    "outputId": "3fe6e3d4-a370-4dec-84c2-7435e5ed3c77"
   },
   "outputs": [
    {
     "name": "stdout",
     "output_type": "stream",
     "text": [
      "Drive already mounted at /content/drive; to attempt to forcibly remount, call drive.mount(\"/content/drive\", force_remount=True).\n",
      "/content/drive/MyDrive/Colab Notebooks/WRI-Hackathon/python_scripts/training\n"
     ]
    }
   ],
   "source": [
    "from google.colab import drive\n",
    "drive.mount('/content/drive')\n",
    "%cd 'drive/MyDrive/Colab Notebooks/WRI-Hackathon/python_scripts/training'"
   ]
  },
  {
   "cell_type": "markdown",
   "metadata": {
    "id": "ufYOC-Li-rTW"
   },
   "source": [
    "### Import libraries"
   ]
  },
  {
   "cell_type": "code",
   "execution_count": 2,
   "metadata": {
    "executionInfo": {
     "elapsed": 855,
     "status": "ok",
     "timestamp": 1625692723418,
     "user": {
      "displayName": "Santanu Bhattacharjee",
      "photoUrl": "",
      "userId": "14679996383546323615"
     },
     "user_tz": -330
    },
    "id": "7LP4BkPWCCeJ"
   },
   "outputs": [],
   "source": [
    "import numpy as np\n",
    "import pandas as pd\n",
    "import torch\n",
    "from torch.utils.data import Dataset, DataLoader\n",
    "from torch.optim import Adam\n",
    "from torch.optim.lr_scheduler import OneCycleLR, ReduceLROnPlateau\n",
    "from sklearn.preprocessing import LabelEncoder, OneHotEncoder\n",
    "from sklearn.linear_model import LinearRegression\n",
    "import matplotlib.pyplot as plt\n",
    "import sys\n",
    "# sys.path.insert(0, '../models')\n",
    "# from krs_inflow_model import SimpleMLP"
   ]
  },
  {
   "cell_type": "markdown",
   "metadata": {
    "id": "HaSSE-Op-zeg"
   },
   "source": [
    "### Read Datasets"
   ]
  },
  {
   "cell_type": "code",
   "execution_count": 3,
   "metadata": {
    "colab": {
     "base_uri": "https://localhost:8080/",
     "height": 224
    },
    "executionInfo": {
     "elapsed": 44,
     "status": "ok",
     "timestamp": 1625692723420,
     "user": {
      "displayName": "Santanu Bhattacharjee",
      "photoUrl": "",
      "userId": "14679996383546323615"
     },
     "user_tz": -330
    },
    "id": "wvGZodhvCO4s",
    "outputId": "cc3502e1-2383-452a-b92e-053c7b55bc20"
   },
   "outputs": [
    {
     "name": "stdout",
     "output_type": "stream",
     "text": [
      "(3274, 11)\n"
     ]
    },
    {
     "data": {
      "text/html": [
       "<div>\n",
       "<style scoped>\n",
       "    .dataframe tbody tr th:only-of-type {\n",
       "        vertical-align: middle;\n",
       "    }\n",
       "\n",
       "    .dataframe tbody tr th {\n",
       "        vertical-align: top;\n",
       "    }\n",
       "\n",
       "    .dataframe thead th {\n",
       "        text-align: right;\n",
       "    }\n",
       "</style>\n",
       "<table border=\"1\" class=\"dataframe\">\n",
       "  <thead>\n",
       "    <tr style=\"text-align: right;\">\n",
       "      <th></th>\n",
       "      <th>RESERVOIR</th>\n",
       "      <th>PRESENT_STORAGE_TMC</th>\n",
       "      <th>RES_LEVEL_FT</th>\n",
       "      <th>INFLOW_CUSECS</th>\n",
       "      <th>OUTFLOW_CUECS</th>\n",
       "      <th>YEAR</th>\n",
       "      <th>MONTH</th>\n",
       "      <th>DATE</th>\n",
       "      <th>DAY</th>\n",
       "      <th>RAINFALL</th>\n",
       "      <th>SEASON</th>\n",
       "    </tr>\n",
       "  </thead>\n",
       "  <tbody>\n",
       "    <tr>\n",
       "      <th>0</th>\n",
       "      <td>K.R.S</td>\n",
       "      <td>46.42</td>\n",
       "      <td>122.59</td>\n",
       "      <td>2029.0</td>\n",
       "      <td>2000.0</td>\n",
       "      <td>2011</td>\n",
       "      <td>1</td>\n",
       "      <td>1</td>\n",
       "      <td>0</td>\n",
       "      <td>0.0226</td>\n",
       "      <td>WINTER</td>\n",
       "    </tr>\n",
       "    <tr>\n",
       "      <th>1</th>\n",
       "      <td>K.R.S</td>\n",
       "      <td>46.54</td>\n",
       "      <td>122.68</td>\n",
       "      <td>3084.0</td>\n",
       "      <td>1490.0</td>\n",
       "      <td>2011</td>\n",
       "      <td>1</td>\n",
       "      <td>2</td>\n",
       "      <td>1</td>\n",
       "      <td>0.0226</td>\n",
       "      <td>WINTER</td>\n",
       "    </tr>\n",
       "    <tr>\n",
       "      <th>2</th>\n",
       "      <td>K.R.S</td>\n",
       "      <td>46.64</td>\n",
       "      <td>122.75</td>\n",
       "      <td>2776.0</td>\n",
       "      <td>1491.0</td>\n",
       "      <td>2011</td>\n",
       "      <td>1</td>\n",
       "      <td>3</td>\n",
       "      <td>2</td>\n",
       "      <td>0.0226</td>\n",
       "      <td>WINTER</td>\n",
       "    </tr>\n",
       "    <tr>\n",
       "      <th>3</th>\n",
       "      <td>K.R.S</td>\n",
       "      <td>46.69</td>\n",
       "      <td>122.79</td>\n",
       "      <td>2311.0</td>\n",
       "      <td>1491.0</td>\n",
       "      <td>2011</td>\n",
       "      <td>1</td>\n",
       "      <td>4</td>\n",
       "      <td>3</td>\n",
       "      <td>0.0226</td>\n",
       "      <td>WINTER</td>\n",
       "    </tr>\n",
       "    <tr>\n",
       "      <th>4</th>\n",
       "      <td>K.R.S</td>\n",
       "      <td>46.70</td>\n",
       "      <td>122.80</td>\n",
       "      <td>1847.0</td>\n",
       "      <td>1491.0</td>\n",
       "      <td>2011</td>\n",
       "      <td>1</td>\n",
       "      <td>5</td>\n",
       "      <td>4</td>\n",
       "      <td>0.0226</td>\n",
       "      <td>WINTER</td>\n",
       "    </tr>\n",
       "  </tbody>\n",
       "</table>\n",
       "</div>"
      ],
      "text/plain": [
       "  RESERVOIR  PRESENT_STORAGE_TMC RES_LEVEL_FT  ...  DAY  RAINFALL  SEASON\n",
       "0     K.R.S                46.42       122.59  ...    0    0.0226  WINTER\n",
       "1     K.R.S                46.54       122.68  ...    1    0.0226  WINTER\n",
       "2     K.R.S                46.64       122.75  ...    2    0.0226  WINTER\n",
       "3     K.R.S                46.69       122.79  ...    3    0.0226  WINTER\n",
       "4     K.R.S                46.70       122.80  ...    4    0.0226  WINTER\n",
       "\n",
       "[5 rows x 11 columns]"
      ]
     },
     "execution_count": 3,
     "metadata": {
      "tags": []
     },
     "output_type": "execute_result"
    }
   ],
   "source": [
    "inflow_df = pd.read_csv('../dataset/reservoir_rainfall_dataset_en.csv')\n",
    "inflow_df = inflow_df[inflow_df['RESERVOIR'] == 'K.R.S']\n",
    "print(inflow_df.shape)\n",
    "inflow_df.head()"
   ]
  },
  {
   "cell_type": "code",
   "execution_count": 4,
   "metadata": {
    "colab": {
     "base_uri": "https://localhost:8080/",
     "height": 224
    },
    "executionInfo": {
     "elapsed": 42,
     "status": "ok",
     "timestamp": 1625692723421,
     "user": {
      "displayName": "Santanu Bhattacharjee",
      "photoUrl": "",
      "userId": "14679996383546323615"
     },
     "user_tz": -330
    },
    "id": "sTIPtxWI_If_",
    "outputId": "63fcd8be-52c9-4dd2-8ca4-98e1a36d17b9"
   },
   "outputs": [
    {
     "name": "stdout",
     "output_type": "stream",
     "text": [
      "(357, 14)\n"
     ]
    },
    {
     "data": {
      "text/html": [
       "<div>\n",
       "<style scoped>\n",
       "    .dataframe tbody tr th:only-of-type {\n",
       "        vertical-align: middle;\n",
       "    }\n",
       "\n",
       "    .dataframe tbody tr th {\n",
       "        vertical-align: top;\n",
       "    }\n",
       "\n",
       "    .dataframe thead th {\n",
       "        text-align: right;\n",
       "    }\n",
       "</style>\n",
       "<table border=\"1\" class=\"dataframe\">\n",
       "  <thead>\n",
       "    <tr style=\"text-align: right;\">\n",
       "      <th></th>\n",
       "      <th>DISTRICTS</th>\n",
       "      <th>YEAR</th>\n",
       "      <th>JAN</th>\n",
       "      <th>FEB</th>\n",
       "      <th>MAR</th>\n",
       "      <th>APR</th>\n",
       "      <th>MAY</th>\n",
       "      <th>JUN</th>\n",
       "      <th>JUL</th>\n",
       "      <th>AUG</th>\n",
       "      <th>SEP</th>\n",
       "      <th>OCT</th>\n",
       "      <th>NOV</th>\n",
       "      <th>DEC</th>\n",
       "    </tr>\n",
       "  </thead>\n",
       "  <tbody>\n",
       "    <tr>\n",
       "      <th>0</th>\n",
       "      <td>BAGALKOTE</td>\n",
       "      <td>2008</td>\n",
       "      <td>0.0</td>\n",
       "      <td>16.7</td>\n",
       "      <td>94.2</td>\n",
       "      <td>10.3</td>\n",
       "      <td>37.5</td>\n",
       "      <td>46.5</td>\n",
       "      <td>28.3</td>\n",
       "      <td>60.2</td>\n",
       "      <td>135.4</td>\n",
       "      <td>60.3</td>\n",
       "      <td>27.2</td>\n",
       "      <td>0.3</td>\n",
       "    </tr>\n",
       "    <tr>\n",
       "      <th>1</th>\n",
       "      <td>BAGALKOTE</td>\n",
       "      <td>2009</td>\n",
       "      <td>0.0</td>\n",
       "      <td>0.0</td>\n",
       "      <td>2.9</td>\n",
       "      <td>14.8</td>\n",
       "      <td>66.3</td>\n",
       "      <td>119.0</td>\n",
       "      <td>41.7</td>\n",
       "      <td>107.3</td>\n",
       "      <td>195.6</td>\n",
       "      <td>220.1</td>\n",
       "      <td>28.8</td>\n",
       "      <td>31.2</td>\n",
       "    </tr>\n",
       "    <tr>\n",
       "      <th>2</th>\n",
       "      <td>BAGALKOTE</td>\n",
       "      <td>2010</td>\n",
       "      <td>13.4</td>\n",
       "      <td>0.1</td>\n",
       "      <td>0.0</td>\n",
       "      <td>10.6</td>\n",
       "      <td>57.4</td>\n",
       "      <td>109.7</td>\n",
       "      <td>89.6</td>\n",
       "      <td>149.3</td>\n",
       "      <td>64.2</td>\n",
       "      <td>58.3</td>\n",
       "      <td>83.2</td>\n",
       "      <td>0.4</td>\n",
       "    </tr>\n",
       "    <tr>\n",
       "      <th>3</th>\n",
       "      <td>BAGALKOTE</td>\n",
       "      <td>2011</td>\n",
       "      <td>0.0</td>\n",
       "      <td>1.9</td>\n",
       "      <td>0.4</td>\n",
       "      <td>39.2</td>\n",
       "      <td>81.0</td>\n",
       "      <td>74.9</td>\n",
       "      <td>77.6</td>\n",
       "      <td>107.0</td>\n",
       "      <td>57.1</td>\n",
       "      <td>90.4</td>\n",
       "      <td>0.0</td>\n",
       "      <td>0.0</td>\n",
       "    </tr>\n",
       "    <tr>\n",
       "      <th>4</th>\n",
       "      <td>BENGALURU RURAL</td>\n",
       "      <td>2008</td>\n",
       "      <td>0.0</td>\n",
       "      <td>2.1</td>\n",
       "      <td>100.9</td>\n",
       "      <td>15.2</td>\n",
       "      <td>100.7</td>\n",
       "      <td>11.8</td>\n",
       "      <td>149.1</td>\n",
       "      <td>223.0</td>\n",
       "      <td>103.9</td>\n",
       "      <td>150.4</td>\n",
       "      <td>25.2</td>\n",
       "      <td>2.3</td>\n",
       "    </tr>\n",
       "  </tbody>\n",
       "</table>\n",
       "</div>"
      ],
      "text/plain": [
       "         DISTRICTS  YEAR   JAN   FEB    MAR  ...    AUG    SEP    OCT   NOV   DEC\n",
       "0        BAGALKOTE  2008   0.0  16.7   94.2  ...   60.2  135.4   60.3  27.2   0.3\n",
       "1        BAGALKOTE  2009   0.0   0.0    2.9  ...  107.3  195.6  220.1  28.8  31.2\n",
       "2        BAGALKOTE  2010  13.4   0.1    0.0  ...  149.3   64.2   58.3  83.2   0.4\n",
       "3        BAGALKOTE  2011   0.0   1.9    0.4  ...  107.0   57.1   90.4   0.0   0.0\n",
       "4  BENGALURU RURAL  2008   0.0   2.1  100.9  ...  223.0  103.9  150.4  25.2   2.3\n",
       "\n",
       "[5 rows x 14 columns]"
      ]
     },
     "execution_count": 4,
     "metadata": {
      "tags": []
     },
     "output_type": "execute_result"
    }
   ],
   "source": [
    "rainfall_df = pd.read_csv('../dataset/Rainfall 2010-2020/rainfall_dataset.csv')\n",
    "print(rainfall_df.shape)\n",
    "rainfall_df.head()"
   ]
  },
  {
   "cell_type": "code",
   "execution_count": 5,
   "metadata": {
    "colab": {
     "base_uri": "https://localhost:8080/",
     "height": 224
    },
    "executionInfo": {
     "elapsed": 39,
     "status": "ok",
     "timestamp": 1625692723422,
     "user": {
      "displayName": "Santanu Bhattacharjee",
      "photoUrl": "",
      "userId": "14679996383546323615"
     },
     "user_tz": -330
    },
    "id": "cRV6_01c_IW2",
    "outputId": "1ccbde48-3a3d-4221-d142-44d9432ff49c"
   },
   "outputs": [
    {
     "name": "stdout",
     "output_type": "stream",
     "text": [
      "(334, 14)\n"
     ]
    },
    {
     "data": {
      "text/html": [
       "<div>\n",
       "<style scoped>\n",
       "    .dataframe tbody tr th:only-of-type {\n",
       "        vertical-align: middle;\n",
       "    }\n",
       "\n",
       "    .dataframe tbody tr th {\n",
       "        vertical-align: top;\n",
       "    }\n",
       "\n",
       "    .dataframe thead th {\n",
       "        text-align: right;\n",
       "    }\n",
       "</style>\n",
       "<table border=\"1\" class=\"dataframe\">\n",
       "  <thead>\n",
       "    <tr style=\"text-align: right;\">\n",
       "      <th></th>\n",
       "      <th>DISTRICTS</th>\n",
       "      <th>YEAR</th>\n",
       "      <th>JAN</th>\n",
       "      <th>FEB</th>\n",
       "      <th>MAR</th>\n",
       "      <th>APR</th>\n",
       "      <th>MAY</th>\n",
       "      <th>JUN</th>\n",
       "      <th>JUL</th>\n",
       "      <th>AUG</th>\n",
       "      <th>SEP</th>\n",
       "      <th>OCT</th>\n",
       "      <th>NOV</th>\n",
       "      <th>DEC</th>\n",
       "    </tr>\n",
       "  </thead>\n",
       "  <tbody>\n",
       "    <tr>\n",
       "      <th>0</th>\n",
       "      <td>BAGALKOTE</td>\n",
       "      <td>2008</td>\n",
       "      <td>-100.0</td>\n",
       "      <td>882.0</td>\n",
       "      <td>1677.0</td>\n",
       "      <td>-57.0</td>\n",
       "      <td>-35.0</td>\n",
       "      <td>-37.0</td>\n",
       "      <td>-63.0</td>\n",
       "      <td>-16.0</td>\n",
       "      <td>-7.0</td>\n",
       "      <td>-41.0</td>\n",
       "      <td>-2.0</td>\n",
       "      <td>-95.0</td>\n",
       "    </tr>\n",
       "    <tr>\n",
       "      <th>1</th>\n",
       "      <td>BAGALKOTE</td>\n",
       "      <td>2009</td>\n",
       "      <td>-100.0</td>\n",
       "      <td>-100.0</td>\n",
       "      <td>-45.0</td>\n",
       "      <td>-38.0</td>\n",
       "      <td>14.0</td>\n",
       "      <td>62.0</td>\n",
       "      <td>-45.0</td>\n",
       "      <td>50.0</td>\n",
       "      <td>35.0</td>\n",
       "      <td>116.0</td>\n",
       "      <td>4.0</td>\n",
       "      <td>380.0</td>\n",
       "    </tr>\n",
       "    <tr>\n",
       "      <th>2</th>\n",
       "      <td>BAGALKOTE</td>\n",
       "      <td>2010</td>\n",
       "      <td>1118.0</td>\n",
       "      <td>-94.0</td>\n",
       "      <td>-100.0</td>\n",
       "      <td>-56.0</td>\n",
       "      <td>-1.0</td>\n",
       "      <td>50.0</td>\n",
       "      <td>18.0</td>\n",
       "      <td>109.0</td>\n",
       "      <td>-56.0</td>\n",
       "      <td>-43.0</td>\n",
       "      <td>200.0</td>\n",
       "      <td>-94.0</td>\n",
       "    </tr>\n",
       "    <tr>\n",
       "      <th>3</th>\n",
       "      <td>BAGALKOTE</td>\n",
       "      <td>2011</td>\n",
       "      <td>-100.0</td>\n",
       "      <td>27.0</td>\n",
       "      <td>-91.0</td>\n",
       "      <td>67.0</td>\n",
       "      <td>41.0</td>\n",
       "      <td>-6.0</td>\n",
       "      <td>5.0</td>\n",
       "      <td>48.0</td>\n",
       "      <td>-58.0</td>\n",
       "      <td>-20.0</td>\n",
       "      <td>-100.0</td>\n",
       "      <td>-100.0</td>\n",
       "    </tr>\n",
       "    <tr>\n",
       "      <th>4</th>\n",
       "      <td>BAGALKOTE</td>\n",
       "      <td>2012</td>\n",
       "      <td>-100.0</td>\n",
       "      <td>-99.0</td>\n",
       "      <td>-100.0</td>\n",
       "      <td>36.0</td>\n",
       "      <td>-69.0</td>\n",
       "      <td>-59.0</td>\n",
       "      <td>-26.0</td>\n",
       "      <td>-6.0</td>\n",
       "      <td>-64.0</td>\n",
       "      <td>-17.0</td>\n",
       "      <td>65.0</td>\n",
       "      <td>-100.0</td>\n",
       "    </tr>\n",
       "  </tbody>\n",
       "</table>\n",
       "</div>"
      ],
      "text/plain": [
       "   DISTRICTS  YEAR     JAN    FEB     MAR  ...    AUG   SEP    OCT    NOV    DEC\n",
       "0  BAGALKOTE  2008  -100.0  882.0  1677.0  ...  -16.0  -7.0  -41.0   -2.0  -95.0\n",
       "1  BAGALKOTE  2009  -100.0 -100.0   -45.0  ...   50.0  35.0  116.0    4.0  380.0\n",
       "2  BAGALKOTE  2010  1118.0  -94.0  -100.0  ...  109.0 -56.0  -43.0  200.0  -94.0\n",
       "3  BAGALKOTE  2011  -100.0   27.0   -91.0  ...   48.0 -58.0  -20.0 -100.0 -100.0\n",
       "4  BAGALKOTE  2012  -100.0  -99.0  -100.0  ...   -6.0 -64.0  -17.0   65.0 -100.0\n",
       "\n",
       "[5 rows x 14 columns]"
      ]
     },
     "execution_count": 5,
     "metadata": {
      "tags": []
     },
     "output_type": "execute_result"
    }
   ],
   "source": [
    "departure_df = pd.read_csv('../dataset/Rainfall 2010-2020/rainfall_departure_dataset.csv')\n",
    "print(departure_df.shape)\n",
    "departure_df.head()"
   ]
  },
  {
   "cell_type": "markdown",
   "metadata": {
    "id": "RofBqi0EC_zo"
   },
   "source": [
    "### Dataset Transformation"
   ]
  },
  {
   "cell_type": "code",
   "execution_count": 6,
   "metadata": {
    "colab": {
     "base_uri": "https://localhost:8080/",
     "height": 206
    },
    "executionInfo": {
     "elapsed": 35,
     "status": "ok",
     "timestamp": 1625692723422,
     "user": {
      "displayName": "Santanu Bhattacharjee",
      "photoUrl": "",
      "userId": "14679996383546323615"
     },
     "user_tz": -330
    },
    "id": "-yNroRXQ-1Bo",
    "outputId": "ce8b8611-3ae1-400c-ab36-3c9db072ce31"
   },
   "outputs": [
    {
     "data": {
      "text/html": [
       "<div>\n",
       "<style scoped>\n",
       "    .dataframe tbody tr th:only-of-type {\n",
       "        vertical-align: middle;\n",
       "    }\n",
       "\n",
       "    .dataframe tbody tr th {\n",
       "        vertical-align: top;\n",
       "    }\n",
       "\n",
       "    .dataframe thead th {\n",
       "        text-align: right;\n",
       "    }\n",
       "</style>\n",
       "<table border=\"1\" class=\"dataframe\">\n",
       "  <thead>\n",
       "    <tr style=\"text-align: right;\">\n",
       "      <th></th>\n",
       "      <th>INFLOW_CUSECS</th>\n",
       "      <th>YEAR</th>\n",
       "      <th>MONTH</th>\n",
       "      <th>DAY</th>\n",
       "      <th>RAINFALL</th>\n",
       "      <th>SEASON</th>\n",
       "    </tr>\n",
       "  </thead>\n",
       "  <tbody>\n",
       "    <tr>\n",
       "      <th>0</th>\n",
       "      <td>2029.0</td>\n",
       "      <td>2011</td>\n",
       "      <td>1</td>\n",
       "      <td>0</td>\n",
       "      <td>0.0226</td>\n",
       "      <td>WINTER</td>\n",
       "    </tr>\n",
       "    <tr>\n",
       "      <th>1</th>\n",
       "      <td>3084.0</td>\n",
       "      <td>2011</td>\n",
       "      <td>1</td>\n",
       "      <td>1</td>\n",
       "      <td>0.0226</td>\n",
       "      <td>WINTER</td>\n",
       "    </tr>\n",
       "    <tr>\n",
       "      <th>2</th>\n",
       "      <td>2776.0</td>\n",
       "      <td>2011</td>\n",
       "      <td>1</td>\n",
       "      <td>2</td>\n",
       "      <td>0.0226</td>\n",
       "      <td>WINTER</td>\n",
       "    </tr>\n",
       "    <tr>\n",
       "      <th>3</th>\n",
       "      <td>2311.0</td>\n",
       "      <td>2011</td>\n",
       "      <td>1</td>\n",
       "      <td>3</td>\n",
       "      <td>0.0226</td>\n",
       "      <td>WINTER</td>\n",
       "    </tr>\n",
       "    <tr>\n",
       "      <th>4</th>\n",
       "      <td>1847.0</td>\n",
       "      <td>2011</td>\n",
       "      <td>1</td>\n",
       "      <td>4</td>\n",
       "      <td>0.0226</td>\n",
       "      <td>WINTER</td>\n",
       "    </tr>\n",
       "  </tbody>\n",
       "</table>\n",
       "</div>"
      ],
      "text/plain": [
       "   INFLOW_CUSECS  YEAR  MONTH  DAY  RAINFALL  SEASON\n",
       "0         2029.0  2011      1    0    0.0226  WINTER\n",
       "1         3084.0  2011      1    1    0.0226  WINTER\n",
       "2         2776.0  2011      1    2    0.0226  WINTER\n",
       "3         2311.0  2011      1    3    0.0226  WINTER\n",
       "4         1847.0  2011      1    4    0.0226  WINTER"
      ]
     },
     "execution_count": 6,
     "metadata": {
      "tags": []
     },
     "output_type": "execute_result"
    }
   ],
   "source": [
    "inflow_df = inflow_df.drop(columns=['RESERVOIR', 'PRESENT_STORAGE_TMC', 'RES_LEVEL_FT', 'OUTFLOW_CUECS', 'DATE'])\n",
    "inflow_df.head()"
   ]
  },
  {
   "cell_type": "code",
   "execution_count": 7,
   "metadata": {
    "colab": {
     "base_uri": "https://localhost:8080/",
     "height": 206
    },
    "executionInfo": {
     "elapsed": 34,
     "status": "ok",
     "timestamp": 1625692723423,
     "user": {
      "displayName": "Santanu Bhattacharjee",
      "photoUrl": "",
      "userId": "14679996383546323615"
     },
     "user_tz": -330
    },
    "id": "OflusVZ9Drvm",
    "outputId": "a54f09a0-e6f8-4168-8548-5e04f23956d8"
   },
   "outputs": [
    {
     "data": {
      "text/html": [
       "<div>\n",
       "<style scoped>\n",
       "    .dataframe tbody tr th:only-of-type {\n",
       "        vertical-align: middle;\n",
       "    }\n",
       "\n",
       "    .dataframe tbody tr th {\n",
       "        vertical-align: top;\n",
       "    }\n",
       "\n",
       "    .dataframe thead th {\n",
       "        text-align: right;\n",
       "    }\n",
       "</style>\n",
       "<table border=\"1\" class=\"dataframe\">\n",
       "  <thead>\n",
       "    <tr style=\"text-align: right;\">\n",
       "      <th></th>\n",
       "      <th>DISTRICTS</th>\n",
       "      <th>YEAR</th>\n",
       "      <th>MONTH</th>\n",
       "      <th>RAINFALL</th>\n",
       "    </tr>\n",
       "  </thead>\n",
       "  <tbody>\n",
       "    <tr>\n",
       "      <th>0</th>\n",
       "      <td>BAGALKOTE</td>\n",
       "      <td>2008</td>\n",
       "      <td>JAN</td>\n",
       "      <td>0.0</td>\n",
       "    </tr>\n",
       "    <tr>\n",
       "      <th>1</th>\n",
       "      <td>BAGALKOTE</td>\n",
       "      <td>2009</td>\n",
       "      <td>JAN</td>\n",
       "      <td>0.0</td>\n",
       "    </tr>\n",
       "    <tr>\n",
       "      <th>2</th>\n",
       "      <td>BAGALKOTE</td>\n",
       "      <td>2010</td>\n",
       "      <td>JAN</td>\n",
       "      <td>13.4</td>\n",
       "    </tr>\n",
       "    <tr>\n",
       "      <th>3</th>\n",
       "      <td>BAGALKOTE</td>\n",
       "      <td>2011</td>\n",
       "      <td>JAN</td>\n",
       "      <td>0.0</td>\n",
       "    </tr>\n",
       "    <tr>\n",
       "      <th>4</th>\n",
       "      <td>BENGALURU RURAL</td>\n",
       "      <td>2008</td>\n",
       "      <td>JAN</td>\n",
       "      <td>0.0</td>\n",
       "    </tr>\n",
       "  </tbody>\n",
       "</table>\n",
       "</div>"
      ],
      "text/plain": [
       "         DISTRICTS  YEAR MONTH  RAINFALL\n",
       "0        BAGALKOTE  2008   JAN       0.0\n",
       "1        BAGALKOTE  2009   JAN       0.0\n",
       "2        BAGALKOTE  2010   JAN      13.4\n",
       "3        BAGALKOTE  2011   JAN       0.0\n",
       "4  BENGALURU RURAL  2008   JAN       0.0"
      ]
     },
     "execution_count": 7,
     "metadata": {
      "tags": []
     },
     "output_type": "execute_result"
    }
   ],
   "source": [
    "rainfall_df = rainfall_df.melt(id_vars=['DISTRICTS', 'YEAR'], var_name='MONTH', value_name='RAINFALL')\n",
    "rainfall_df.head()"
   ]
  },
  {
   "cell_type": "code",
   "execution_count": 8,
   "metadata": {
    "colab": {
     "base_uri": "https://localhost:8080/",
     "height": 206
    },
    "executionInfo": {
     "elapsed": 33,
     "status": "ok",
     "timestamp": 1625692723424,
     "user": {
      "displayName": "Santanu Bhattacharjee",
      "photoUrl": "",
      "userId": "14679996383546323615"
     },
     "user_tz": -330
    },
    "id": "cJvlm7AODyZh",
    "outputId": "02349242-21cf-4531-c1df-bfada5d631d7"
   },
   "outputs": [
    {
     "data": {
      "text/html": [
       "<div>\n",
       "<style scoped>\n",
       "    .dataframe tbody tr th:only-of-type {\n",
       "        vertical-align: middle;\n",
       "    }\n",
       "\n",
       "    .dataframe tbody tr th {\n",
       "        vertical-align: top;\n",
       "    }\n",
       "\n",
       "    .dataframe thead th {\n",
       "        text-align: right;\n",
       "    }\n",
       "</style>\n",
       "<table border=\"1\" class=\"dataframe\">\n",
       "  <thead>\n",
       "    <tr style=\"text-align: right;\">\n",
       "      <th></th>\n",
       "      <th>DISTRICTS</th>\n",
       "      <th>YEAR</th>\n",
       "      <th>MONTH</th>\n",
       "      <th>DEPARTURE</th>\n",
       "    </tr>\n",
       "  </thead>\n",
       "  <tbody>\n",
       "    <tr>\n",
       "      <th>0</th>\n",
       "      <td>BAGALKOTE</td>\n",
       "      <td>2008</td>\n",
       "      <td>JAN</td>\n",
       "      <td>-100.0</td>\n",
       "    </tr>\n",
       "    <tr>\n",
       "      <th>1</th>\n",
       "      <td>BAGALKOTE</td>\n",
       "      <td>2009</td>\n",
       "      <td>JAN</td>\n",
       "      <td>-100.0</td>\n",
       "    </tr>\n",
       "    <tr>\n",
       "      <th>2</th>\n",
       "      <td>BAGALKOTE</td>\n",
       "      <td>2010</td>\n",
       "      <td>JAN</td>\n",
       "      <td>1118.0</td>\n",
       "    </tr>\n",
       "    <tr>\n",
       "      <th>3</th>\n",
       "      <td>BAGALKOTE</td>\n",
       "      <td>2011</td>\n",
       "      <td>JAN</td>\n",
       "      <td>-100.0</td>\n",
       "    </tr>\n",
       "    <tr>\n",
       "      <th>4</th>\n",
       "      <td>BAGALKOTE</td>\n",
       "      <td>2012</td>\n",
       "      <td>JAN</td>\n",
       "      <td>-100.0</td>\n",
       "    </tr>\n",
       "  </tbody>\n",
       "</table>\n",
       "</div>"
      ],
      "text/plain": [
       "   DISTRICTS  YEAR MONTH  DEPARTURE\n",
       "0  BAGALKOTE  2008   JAN     -100.0\n",
       "1  BAGALKOTE  2009   JAN     -100.0\n",
       "2  BAGALKOTE  2010   JAN     1118.0\n",
       "3  BAGALKOTE  2011   JAN     -100.0\n",
       "4  BAGALKOTE  2012   JAN     -100.0"
      ]
     },
     "execution_count": 8,
     "metadata": {
      "tags": []
     },
     "output_type": "execute_result"
    }
   ],
   "source": [
    "departure_df = departure_df.melt(id_vars=['DISTRICTS', 'YEAR'], var_name='MONTH', value_name='DEPARTURE')\n",
    "departure_df.head()"
   ]
  },
  {
   "cell_type": "code",
   "execution_count": 9,
   "metadata": {
    "colab": {
     "base_uri": "https://localhost:8080/"
    },
    "executionInfo": {
     "elapsed": 31,
     "status": "ok",
     "timestamp": 1625692723425,
     "user": {
      "displayName": "Santanu Bhattacharjee",
      "photoUrl": "",
      "userId": "14679996383546323615"
     },
     "user_tz": -330
    },
    "id": "wZDkJ-kmD9ur",
    "outputId": "9da2b311-db77-4377-ef20-b2e38a9b2349"
   },
   "outputs": [
    {
     "data": {
      "text/plain": [
       "((156, 4), (156, 4))"
      ]
     },
     "execution_count": 9,
     "metadata": {
      "tags": []
     },
     "output_type": "execute_result"
    }
   ],
   "source": [
    "rainfall_df = rainfall_df[rainfall_df['DISTRICTS'] == 'KODAGU']\n",
    "departure_df = departure_df[departure_df['DISTRICTS'] == 'KODAGU']\n",
    "\n",
    "rainfall_df.shape, departure_df.shape"
   ]
  },
  {
   "cell_type": "code",
   "execution_count": 10,
   "metadata": {
    "colab": {
     "base_uri": "https://localhost:8080/",
     "height": 206
    },
    "executionInfo": {
     "elapsed": 29,
     "status": "ok",
     "timestamp": 1625692723426,
     "user": {
      "displayName": "Santanu Bhattacharjee",
      "photoUrl": "",
      "userId": "14679996383546323615"
     },
     "user_tz": -330
    },
    "id": "WIZqHwy9FQoa",
    "outputId": "22975b0e-2c0f-4eaf-f2ae-e9975061da81"
   },
   "outputs": [
    {
     "data": {
      "text/html": [
       "<div>\n",
       "<style scoped>\n",
       "    .dataframe tbody tr th:only-of-type {\n",
       "        vertical-align: middle;\n",
       "    }\n",
       "\n",
       "    .dataframe tbody tr th {\n",
       "        vertical-align: top;\n",
       "    }\n",
       "\n",
       "    .dataframe thead th {\n",
       "        text-align: right;\n",
       "    }\n",
       "</style>\n",
       "<table border=\"1\" class=\"dataframe\">\n",
       "  <thead>\n",
       "    <tr style=\"text-align: right;\">\n",
       "      <th></th>\n",
       "      <th>index</th>\n",
       "      <th>MONTH</th>\n",
       "    </tr>\n",
       "  </thead>\n",
       "  <tbody>\n",
       "    <tr>\n",
       "      <th>0</th>\n",
       "      <td>1</td>\n",
       "      <td>JAN</td>\n",
       "    </tr>\n",
       "    <tr>\n",
       "      <th>1</th>\n",
       "      <td>2</td>\n",
       "      <td>FEB</td>\n",
       "    </tr>\n",
       "    <tr>\n",
       "      <th>2</th>\n",
       "      <td>3</td>\n",
       "      <td>MAR</td>\n",
       "    </tr>\n",
       "    <tr>\n",
       "      <th>3</th>\n",
       "      <td>4</td>\n",
       "      <td>APR</td>\n",
       "    </tr>\n",
       "    <tr>\n",
       "      <th>4</th>\n",
       "      <td>5</td>\n",
       "      <td>MAY</td>\n",
       "    </tr>\n",
       "  </tbody>\n",
       "</table>\n",
       "</div>"
      ],
      "text/plain": [
       "   index MONTH\n",
       "0      1   JAN\n",
       "1      2   FEB\n",
       "2      3   MAR\n",
       "3      4   APR\n",
       "4      5   MAY"
      ]
     },
     "execution_count": 10,
     "metadata": {
      "tags": []
     },
     "output_type": "execute_result"
    }
   ],
   "source": [
    "month_df = pd.DataFrame.from_dict({1: 'JAN', 2: 'FEB', 3: 'MAR', 4: 'APR', 5: 'MAY', 6: 'JUN',\n",
    "                                   7: 'JUL', 8: 'AUG', 9: 'SEP', 10: 'OCT', 11: 'NOV', 12: 'DEC'}, orient='index').reset_index()\n",
    "month_df.columns = ['index', 'MONTH']\n",
    "month_df.head()"
   ]
  },
  {
   "cell_type": "code",
   "execution_count": 11,
   "metadata": {
    "colab": {
     "base_uri": "https://localhost:8080/",
     "height": 206
    },
    "executionInfo": {
     "elapsed": 28,
     "status": "ok",
     "timestamp": 1625692723426,
     "user": {
      "displayName": "Santanu Bhattacharjee",
      "photoUrl": "",
      "userId": "14679996383546323615"
     },
     "user_tz": -330
    },
    "id": "F1eZd_LUaabb",
    "outputId": "0ea7dd21-8bbb-46d3-e8c6-66728a8d0295"
   },
   "outputs": [
    {
     "data": {
      "text/html": [
       "<div>\n",
       "<style scoped>\n",
       "    .dataframe tbody tr th:only-of-type {\n",
       "        vertical-align: middle;\n",
       "    }\n",
       "\n",
       "    .dataframe tbody tr th {\n",
       "        vertical-align: top;\n",
       "    }\n",
       "\n",
       "    .dataframe thead th {\n",
       "        text-align: right;\n",
       "    }\n",
       "</style>\n",
       "<table border=\"1\" class=\"dataframe\">\n",
       "  <thead>\n",
       "    <tr style=\"text-align: right;\">\n",
       "      <th></th>\n",
       "      <th>YEAR</th>\n",
       "      <th>RAINFALL</th>\n",
       "      <th>DEPARTURE</th>\n",
       "      <th>MONTH</th>\n",
       "    </tr>\n",
       "  </thead>\n",
       "  <tbody>\n",
       "    <tr>\n",
       "      <th>0</th>\n",
       "      <td>2008</td>\n",
       "      <td>0.0</td>\n",
       "      <td>-100.0</td>\n",
       "      <td>1</td>\n",
       "    </tr>\n",
       "    <tr>\n",
       "      <th>1</th>\n",
       "      <td>2009</td>\n",
       "      <td>0.0</td>\n",
       "      <td>-100.0</td>\n",
       "      <td>1</td>\n",
       "    </tr>\n",
       "    <tr>\n",
       "      <th>2</th>\n",
       "      <td>2010</td>\n",
       "      <td>12.4</td>\n",
       "      <td>188.0</td>\n",
       "      <td>1</td>\n",
       "    </tr>\n",
       "    <tr>\n",
       "      <th>3</th>\n",
       "      <td>2011</td>\n",
       "      <td>0.7</td>\n",
       "      <td>-80.0</td>\n",
       "      <td>1</td>\n",
       "    </tr>\n",
       "    <tr>\n",
       "      <th>4</th>\n",
       "      <td>2012</td>\n",
       "      <td>0.5</td>\n",
       "      <td>-86.0</td>\n",
       "      <td>1</td>\n",
       "    </tr>\n",
       "  </tbody>\n",
       "</table>\n",
       "</div>"
      ],
      "text/plain": [
       "   YEAR  RAINFALL  DEPARTURE  MONTH\n",
       "0  2008       0.0     -100.0      1\n",
       "1  2009       0.0     -100.0      1\n",
       "2  2010      12.4      188.0      1\n",
       "3  2011       0.7      -80.0      1\n",
       "4  2012       0.5      -86.0      1"
      ]
     },
     "execution_count": 11,
     "metadata": {
      "tags": []
     },
     "output_type": "execute_result"
    }
   ],
   "source": [
    "rainfall_departure_df = pd.merge(left=rainfall_df, right=departure_df, how='outer', on=['MONTH', 'YEAR', 'DISTRICTS']).merge(month_df, on='MONTH')\n",
    "rainfall_departure_df.drop(columns=['DISTRICTS', 'MONTH'], inplace=True)\n",
    "rainfall_departure_df.rename(columns={'index': 'MONTH'}, inplace=True)\n",
    "rainfall_departure_df.head()"
   ]
  },
  {
   "cell_type": "markdown",
   "metadata": {
    "id": "3fRMC2obcv2z"
   },
   "source": [
    "### Dataset and DataLoader"
   ]
  },
  {
   "cell_type": "code",
   "execution_count": 12,
   "metadata": {
    "executionInfo": {
     "elapsed": 25,
     "status": "ok",
     "timestamp": 1625692723426,
     "user": {
      "displayName": "Santanu Bhattacharjee",
      "photoUrl": "",
      "userId": "14679996383546323615"
     },
     "user_tz": -330
    },
    "id": "VxU46ELANGuY"
   },
   "outputs": [],
   "source": [
    "month_le = LabelEncoder().fit(inflow_df['MONTH'].unique())\n",
    "day_le = LabelEncoder().fit(inflow_df['DAY'].unique())\n",
    "season_le = LabelEncoder().fit(inflow_df['SEASON'].unique())"
   ]
  },
  {
   "cell_type": "code",
   "execution_count": 13,
   "metadata": {
    "colab": {
     "base_uri": "https://localhost:8080/"
    },
    "executionInfo": {
     "elapsed": 25,
     "status": "ok",
     "timestamp": 1625692723427,
     "user": {
      "displayName": "Santanu Bhattacharjee",
      "photoUrl": "",
      "userId": "14679996383546323615"
     },
     "user_tz": -330
    },
    "id": "o6cx0AsIixlw",
    "outputId": "6fd97744-4100-452c-815e-411ee919430e"
   },
   "outputs": [
    {
     "data": {
      "text/plain": [
       "((2944, 6), (330, 6))"
      ]
     },
     "execution_count": 13,
     "metadata": {
      "tags": []
     },
     "output_type": "execute_result"
    }
   ],
   "source": [
    "train_inflow_df = inflow_df[inflow_df['YEAR'] < 2020]\n",
    "val_inflow_df = inflow_df[inflow_df['YEAR'] == 2020]\n",
    "\n",
    "train_inflow_df.shape, val_inflow_df.shape"
   ]
  },
  {
   "cell_type": "code",
   "execution_count": 14,
   "metadata": {
    "executionInfo": {
     "elapsed": 23,
     "status": "ok",
     "timestamp": 1625692723428,
     "user": {
      "displayName": "Santanu Bhattacharjee",
      "photoUrl": "",
      "userId": "14679996383546323615"
     },
     "user_tz": -330
    },
    "id": "KleniJwsOxDg"
   },
   "outputs": [],
   "source": [
    "class InflowDataset(Dataset):\n",
    "    def __init__(self, df):\n",
    "        self.df = df\n",
    "    \n",
    "    def __getitem__(self, index):\n",
    "        inflow, year, month, day, rainfall, season = self.df.iloc[index].values\n",
    "        monthly_rainfall = rainfall_departure_df[(rainfall_departure_df['YEAR'] == year) & (rainfall_departure_df['MONTH'] == month)]['RAINFALL'].values\n",
    "        prev_rainfall_departure_df = rainfall_departure_df[(rainfall_departure_df['YEAR'] < year) & (rainfall_departure_df['MONTH'] == month)].sort_values('YEAR', ascending=False).head(3)\n",
    "        prev_avg_rainfall = prev_rainfall_departure_df['RAINFALL'].values.mean()\n",
    "        prev_avg_departure = prev_rainfall_departure_df['DEPARTURE'].values.mean()\n",
    "        \n",
    "        month_transformed = month_le.transform([month])\n",
    "        day_transformed = day_le.transform([day])\n",
    "        season_transformed = season_le.transform([season])\n",
    "\n",
    "        return (torch.tensor(month_transformed[0]), \\\n",
    "                torch.tensor(day_transformed[0]), \\\n",
    "                torch.tensor(season_transformed[0]), \\\n",
    "                torch.FloatTensor([prev_avg_rainfall, prev_avg_departure])), (torch.FloatTensor([inflow]), torch.FloatTensor(monthly_rainfall))\n",
    "    \n",
    "    def __len__(self):\n",
    "        return self.df.shape[0]"
   ]
  },
  {
   "cell_type": "code",
   "execution_count": 15,
   "metadata": {
    "executionInfo": {
     "elapsed": 23,
     "status": "ok",
     "timestamp": 1625692723428,
     "user": {
      "displayName": "Santanu Bhattacharjee",
      "photoUrl": "",
      "userId": "14679996383546323615"
     },
     "user_tz": -330
    },
    "id": "ATDZ0wJFYaIA"
   },
   "outputs": [],
   "source": [
    "train_ds = InflowDataset(train_inflow_df)\n",
    "val_ds = InflowDataset(val_inflow_df)\n",
    "train_dl = DataLoader(train_ds, batch_size=32, shuffle=True, num_workers=2)\n",
    "val_dl = DataLoader(val_ds, batch_size=32, num_workers=2)"
   ]
  },
  {
   "cell_type": "markdown",
   "metadata": {
    "id": "ALIgNAHDixDW"
   },
   "source": [
    "### Model"
   ]
  },
  {
   "cell_type": "code",
   "execution_count": 16,
   "metadata": {
    "executionInfo": {
     "elapsed": 12,
     "status": "ok",
     "timestamp": 1625692724373,
     "user": {
      "displayName": "Santanu Bhattacharjee",
      "photoUrl": "",
      "userId": "14679996383546323615"
     },
     "user_tz": -330
    },
    "id": "JlOZtPVYYikA"
   },
   "outputs": [],
   "source": [
    "import torch\n",
    "import torch.nn as nn\n",
    "class SimpleMLP(nn.Module):\n",
    "    def __init__(self, nmonth, nday, nseason):\n",
    "        super().__init__()\n",
    "        self.month_emb = nn.Embedding(num_embeddings=nmonth, embedding_dim=128)\n",
    "        self.day_emb = nn.Embedding(num_embeddings=nday, embedding_dim=128)\n",
    "        self.season_emb = nn.Embedding(num_embeddings=nseason, embedding_dim=128)\n",
    "        self.prev_data_layer = nn.Sequential(\n",
    "            nn.Linear(in_features=2, out_features=64),\n",
    "            nn.ReLU(),\n",
    "            nn.Linear(in_features=64, out_features=128),\n",
    "            nn.ReLU()\n",
    "        )\n",
    "        self.rainfall_layer = nn.Sequential(\n",
    "            nn.BatchNorm1d(num_features=128*4),\n",
    "            nn.Linear(in_features=128*4, out_features=768),\n",
    "            nn.LeakyReLU(),\n",
    "            nn.Linear(in_features=768, out_features=128),\n",
    "            nn.LeakyReLU(),\n",
    "            nn.Linear(in_features=128, out_features=1),\n",
    "            nn.ReLU()\n",
    "        )\n",
    "        self.rainfall_emb = nn.Linear(in_features=1, out_features=64)\n",
    "        self.inflow_layer = nn.Sequential(\n",
    "            nn.BatchNorm1d(num_features=576),\n",
    "            nn.Linear(in_features=576, out_features=768),\n",
    "            nn.LeakyReLU(),\n",
    "            nn.Linear(in_features=768, out_features=256),\n",
    "            nn.LeakyReLU(),\n",
    "            nn.Linear(in_features=256, out_features=64),\n",
    "            nn.LeakyReLU(),\n",
    "            nn.Linear(in_features=64, out_features=1),\n",
    "            nn.ReLU()\n",
    "        )\n",
    "    \n",
    "    def forward(self, x_month, x_day, x_season, x_prev_data):\n",
    "        month_out = self.day_emb(x_month)\n",
    "        day_out = self.day_emb(x_day)\n",
    "        season_out = self.season_emb(x_season)\n",
    "        prev_data_out = self.prev_data_layer(x_prev_data)\n",
    "\n",
    "        x = torch.cat([month_out, day_out, season_out, prev_data_out], axis=1)\n",
    "\n",
    "        rainfall_out = self.rainfall_layer(x)\n",
    "        inflow_out = self.inflow_layer(torch.cat([self.rainfall_emb(rainfall_out), x], axis=1))\n",
    "\n",
    "        return rainfall_out, inflow_out\n",
    "    \n",
    "    def weight_init(self):\n",
    "        for m in self.modules():\n",
    "            if isinstance(m, nn.Linear):\n",
    "                nn.init.xavier_uniform_(m.weight)\n",
    "                nn.init.zeros_(m.bias)\n",
    "            elif isinstance(m, nn.Embedding):\n",
    "                nn.init.xavier_uniform_(m.weight)"
   ]
  },
  {
   "cell_type": "markdown",
   "metadata": {
    "id": "WtgponCKizRG"
   },
   "source": [
    "### Training"
   ]
  },
  {
   "cell_type": "code",
   "execution_count": 17,
   "metadata": {
    "executionInfo": {
     "elapsed": 12,
     "status": "ok",
     "timestamp": 1625692724375,
     "user": {
      "displayName": "Santanu Bhattacharjee",
      "photoUrl": "",
      "userId": "14679996383546323615"
     },
     "user_tz": -330
    },
    "id": "0YxErg76YeEE"
   },
   "outputs": [],
   "source": [
    "def train(model, epochs, lr):\n",
    "    opt = Adam(model.parameters(), lr=lr)\n",
    "    scheduler = ReduceLROnPlateau(opt, patience=12, min_lr=1e-7)\n",
    "    criterion = nn.MSELoss()\n",
    "\n",
    "    mean_inflow = train_inflow_df['INFLOW_CUSECS'].mean()\n",
    "    mean_rainfall = rainfall_departure_df['RAINFALL'].mean()\n",
    "    inflow_loss_weight = int((mean_inflow + mean_rainfall) / mean_inflow)\n",
    "    rainfall_loss_weight = int((mean_inflow + mean_rainfall) / mean_rainfall)\n",
    "    for epoch in range(epochs):\n",
    "        train_loss = 0\n",
    "        val_loss = 0\n",
    "\n",
    "        model.train()\n",
    "        for xb, yb in train_dl:\n",
    "            x_month = xb[0].cuda()\n",
    "            x_day = xb[1].cuda()\n",
    "            x_season = xb[2].cuda()\n",
    "            x_prev_data = xb[3].cuda()\n",
    "            y_inflow = yb[0].cuda()\n",
    "            y_rainfall = yb[1].cuda()\n",
    "\n",
    "            y_hat = model(x_month, x_day, x_season, x_prev_data)\n",
    "            y_hat_rainfall = y_hat[0]\n",
    "            y_hat_inflow = y_hat[1]\n",
    "            loss = rainfall_loss_weight * criterion(y_hat_rainfall, y_rainfall) + inflow_loss_weight * criterion(y_hat_inflow, y_inflow)\n",
    "\n",
    "            opt.zero_grad()\n",
    "            loss.backward()\n",
    "            opt.step()\n",
    "\n",
    "            train_loss += loss.item()\n",
    "        \n",
    "        model.eval()\n",
    "        with torch.no_grad():\n",
    "            for xb, yb in val_dl:\n",
    "                x_month = xb[0].cuda()\n",
    "                x_day = xb[1].cuda()\n",
    "                x_season = xb[2].cuda()\n",
    "                x_prev_data = xb[3].cuda()\n",
    "                y_inflow = yb[0].cuda()\n",
    "                y_rainfall = yb[1].cuda()\n",
    "\n",
    "                y_hat = model(x_month, x_day, x_season, x_prev_data)\n",
    "                y_hat_rainfall = y_hat[0]\n",
    "                y_hat_inflow = y_hat[1]\n",
    "                loss = rainfall_loss_weight * criterion(y_hat_rainfall, y_rainfall) + inflow_loss_weight * criterion(y_hat_inflow, y_inflow)\n",
    "\n",
    "                val_loss += loss.item()\n",
    "                \n",
    "        scheduler.step(train_loss)\n",
    "\n",
    "        if scheduler._last_lr[0] <= 1e-06:\n",
    "            break\n",
    "        print(f'Epoch - {epoch+1} | LR - {scheduler._last_lr[0]} | Train Loss - {round(train_loss / len(train_dl), 2)} | Val Loss - {round(val_loss / len(val_dl), 2)}')"
   ]
  },
  {
   "cell_type": "code",
   "execution_count": 18,
   "metadata": {
    "executionInfo": {
     "elapsed": 2324,
     "status": "ok",
     "timestamp": 1625692726690,
     "user": {
      "displayName": "Santanu Bhattacharjee",
      "photoUrl": "",
      "userId": "14679996383546323615"
     },
     "user_tz": -330
    },
    "id": "_mTaSOlKkiip"
   },
   "outputs": [],
   "source": [
    "model = SimpleMLP(len(month_le.classes_), len(day_le.classes_), len(season_le.classes_)).cuda()\n",
    "model.weight_init()"
   ]
  },
  {
   "cell_type": "code",
   "execution_count": 19,
   "metadata": {
    "colab": {
     "base_uri": "https://localhost:8080/"
    },
    "executionInfo": {
     "elapsed": 2042056,
     "status": "ok",
     "timestamp": 1625694768741,
     "user": {
      "displayName": "Santanu Bhattacharjee",
      "photoUrl": "",
      "userId": "14679996383546323615"
     },
     "user_tz": -330
    },
    "id": "g0nMbQwvyqKi",
    "outputId": "30253e51-501e-4c4e-e7d4-897859f7dcf9"
   },
   "outputs": [
    {
     "name": "stdout",
     "output_type": "stream",
     "text": [
      "Epoch - 1 | LR - 0.01 | Train Loss - 37611848.39 | Val Loss - 16276564.06\n",
      "Epoch - 2 | LR - 0.01 | Train Loss - 32014925.34 | Val Loss - 16006855.82\n",
      "Epoch - 3 | LR - 0.01 | Train Loss - 31513704.27 | Val Loss - 16821714.7\n",
      "Epoch - 4 | LR - 0.01 | Train Loss - 29044415.26 | Val Loss - 16130407.64\n",
      "Epoch - 5 | LR - 0.01 | Train Loss - 28751099.81 | Val Loss - 19983054.9\n",
      "Epoch - 6 | LR - 0.01 | Train Loss - 28736400.95 | Val Loss - 17451026.65\n",
      "Epoch - 7 | LR - 0.01 | Train Loss - 28144960.04 | Val Loss - 19530476.28\n",
      "Epoch - 8 | LR - 0.01 | Train Loss - 28382522.34 | Val Loss - 21813232.95\n",
      "Epoch - 9 | LR - 0.01 | Train Loss - 26805268.39 | Val Loss - 19072385.25\n",
      "Epoch - 10 | LR - 0.01 | Train Loss - 25342315.64 | Val Loss - 22501720.22\n",
      "Epoch - 11 | LR - 0.01 | Train Loss - 25670173.68 | Val Loss - 17358991.22\n",
      "Epoch - 12 | LR - 0.01 | Train Loss - 25037362.69 | Val Loss - 35377094.5\n",
      "Epoch - 13 | LR - 0.01 | Train Loss - 24947201.24 | Val Loss - 21495296.31\n",
      "Epoch - 14 | LR - 0.01 | Train Loss - 25145063.54 | Val Loss - 18718031.27\n",
      "Epoch - 15 | LR - 0.01 | Train Loss - 24912880.5 | Val Loss - 23122202.72\n",
      "Epoch - 16 | LR - 0.01 | Train Loss - 24669023.75 | Val Loss - 28035124.67\n",
      "Epoch - 17 | LR - 0.01 | Train Loss - 23714282.84 | Val Loss - 17479997.99\n",
      "Epoch - 18 | LR - 0.01 | Train Loss - 24458148.51 | Val Loss - 17421748.99\n",
      "Epoch - 19 | LR - 0.01 | Train Loss - 22306475.42 | Val Loss - 23146423.21\n",
      "Epoch - 20 | LR - 0.01 | Train Loss - 22285928.87 | Val Loss - 18501641.48\n",
      "Epoch - 21 | LR - 0.01 | Train Loss - 22389974.64 | Val Loss - 30290795.45\n",
      "Epoch - 22 | LR - 0.01 | Train Loss - 23378549.73 | Val Loss - 15495282.89\n",
      "Epoch - 23 | LR - 0.01 | Train Loss - 21715513.07 | Val Loss - 21715262.11\n",
      "Epoch - 24 | LR - 0.01 | Train Loss - 21552306.74 | Val Loss - 17833757.46\n",
      "Epoch - 25 | LR - 0.01 | Train Loss - 21385831.92 | Val Loss - 15141110.69\n",
      "Epoch - 26 | LR - 0.01 | Train Loss - 21452992.05 | Val Loss - 17676916.96\n",
      "Epoch - 27 | LR - 0.01 | Train Loss - 20974320.85 | Val Loss - 14299288.57\n",
      "Epoch - 28 | LR - 0.01 | Train Loss - 23486629.08 | Val Loss - 32986487.42\n",
      "Epoch - 29 | LR - 0.01 | Train Loss - 23949011.28 | Val Loss - 31913291.54\n",
      "Epoch - 30 | LR - 0.01 | Train Loss - 22911823.46 | Val Loss - 19995889.56\n",
      "Epoch - 31 | LR - 0.01 | Train Loss - 22341212.16 | Val Loss - 16771825.67\n",
      "Epoch - 32 | LR - 0.01 | Train Loss - 22266731.4 | Val Loss - 19573931.6\n",
      "Epoch - 33 | LR - 0.01 | Train Loss - 19720471.08 | Val Loss - 18603008.33\n",
      "Epoch - 34 | LR - 0.01 | Train Loss - 20891135.11 | Val Loss - 16243299.96\n",
      "Epoch - 35 | LR - 0.01 | Train Loss - 20428941.07 | Val Loss - 20242403.46\n",
      "Epoch - 36 | LR - 0.01 | Train Loss - 20472251.41 | Val Loss - 16630610.94\n",
      "Epoch - 37 | LR - 0.01 | Train Loss - 21268073.66 | Val Loss - 14874141.18\n",
      "Epoch - 38 | LR - 0.01 | Train Loss - 18834777.83 | Val Loss - 20407697.71\n",
      "Epoch - 39 | LR - 0.01 | Train Loss - 19240051.28 | Val Loss - 16936551.46\n",
      "Epoch - 40 | LR - 0.01 | Train Loss - 19965098.4 | Val Loss - 18326109.86\n",
      "Epoch - 41 | LR - 0.01 | Train Loss - 18990858.34 | Val Loss - 20960867.11\n",
      "Epoch - 42 | LR - 0.01 | Train Loss - 19183101.7 | Val Loss - 17669395.64\n",
      "Epoch - 43 | LR - 0.01 | Train Loss - 19477416.33 | Val Loss - 23236998.51\n",
      "Epoch - 44 | LR - 0.01 | Train Loss - 18591823.17 | Val Loss - 18223688.11\n",
      "Epoch - 45 | LR - 0.01 | Train Loss - 18497114.83 | Val Loss - 17564235.14\n",
      "Epoch - 46 | LR - 0.01 | Train Loss - 18913308.12 | Val Loss - 20749386.65\n",
      "Epoch - 47 | LR - 0.01 | Train Loss - 19273936.58 | Val Loss - 18346197.08\n",
      "Epoch - 48 | LR - 0.01 | Train Loss - 20058270.1 | Val Loss - 20493777.82\n",
      "Epoch - 49 | LR - 0.01 | Train Loss - 20472923.42 | Val Loss - 22401270.91\n",
      "Epoch - 50 | LR - 0.01 | Train Loss - 20235807.1 | Val Loss - 22017752.82\n",
      "Epoch - 51 | LR - 0.01 | Train Loss - 19721441.94 | Val Loss - 31291337.44\n",
      "Epoch - 52 | LR - 0.01 | Train Loss - 18960884.43 | Val Loss - 29252703.09\n",
      "Epoch - 53 | LR - 0.01 | Train Loss - 19167895.2 | Val Loss - 36599662.94\n",
      "Epoch - 54 | LR - 0.01 | Train Loss - 17749862.29 | Val Loss - 47731558.14\n",
      "Epoch - 55 | LR - 0.01 | Train Loss - 18696827.14 | Val Loss - 22747482.94\n",
      "Epoch - 56 | LR - 0.01 | Train Loss - 17611704.48 | Val Loss - 23797337.49\n",
      "Epoch - 57 | LR - 0.01 | Train Loss - 18251469.0 | Val Loss - 24234475.95\n",
      "Epoch - 58 | LR - 0.01 | Train Loss - 17980646.49 | Val Loss - 26851133.0\n",
      "Epoch - 59 | LR - 0.01 | Train Loss - 17929241.85 | Val Loss - 32315109.8\n",
      "Epoch - 60 | LR - 0.01 | Train Loss - 17967779.98 | Val Loss - 25890725.25\n",
      "Epoch - 61 | LR - 0.01 | Train Loss - 17973909.11 | Val Loss - 21614459.48\n",
      "Epoch - 62 | LR - 0.01 | Train Loss - 17871309.0 | Val Loss - 39753103.73\n",
      "Epoch - 63 | LR - 0.01 | Train Loss - 18089211.78 | Val Loss - 40927221.36\n",
      "Epoch - 64 | LR - 0.01 | Train Loss - 19207103.53 | Val Loss - 44556745.21\n",
      "Epoch - 65 | LR - 0.01 | Train Loss - 17164421.78 | Val Loss - 31114450.02\n",
      "Epoch - 66 | LR - 0.01 | Train Loss - 18252984.33 | Val Loss - 40797800.34\n",
      "Epoch - 67 | LR - 0.01 | Train Loss - 18490600.01 | Val Loss - 27903026.54\n",
      "Epoch - 68 | LR - 0.01 | Train Loss - 17369865.97 | Val Loss - 51131403.09\n",
      "Epoch - 69 | LR - 0.01 | Train Loss - 17867614.74 | Val Loss - 21980928.49\n",
      "Epoch - 70 | LR - 0.01 | Train Loss - 17339704.79 | Val Loss - 24036691.74\n",
      "Epoch - 71 | LR - 0.01 | Train Loss - 16815277.27 | Val Loss - 24267974.41\n",
      "Epoch - 72 | LR - 0.01 | Train Loss - 17626113.82 | Val Loss - 33986419.45\n",
      "Epoch - 73 | LR - 0.01 | Train Loss - 17621612.76 | Val Loss - 30770204.04\n",
      "Epoch - 74 | LR - 0.01 | Train Loss - 17120045.51 | Val Loss - 22409807.0\n",
      "Epoch - 75 | LR - 0.01 | Train Loss - 16536249.28 | Val Loss - 18546433.04\n",
      "Epoch - 76 | LR - 0.01 | Train Loss - 17367170.95 | Val Loss - 18938970.16\n",
      "Epoch - 77 | LR - 0.01 | Train Loss - 16453022.56 | Val Loss - 23596808.52\n",
      "Epoch - 78 | LR - 0.01 | Train Loss - 16301973.39 | Val Loss - 20008488.27\n",
      "Epoch - 79 | LR - 0.01 | Train Loss - 17555048.31 | Val Loss - 24131338.09\n",
      "Epoch - 80 | LR - 0.01 | Train Loss - 17061885.37 | Val Loss - 18332138.55\n",
      "Epoch - 81 | LR - 0.01 | Train Loss - 16998863.29 | Val Loss - 22467513.29\n",
      "Epoch - 82 | LR - 0.01 | Train Loss - 16889266.07 | Val Loss - 23445080.91\n",
      "Epoch - 83 | LR - 0.01 | Train Loss - 16806923.9 | Val Loss - 18217789.31\n",
      "Epoch - 84 | LR - 0.01 | Train Loss - 16721001.55 | Val Loss - 20874225.95\n",
      "Epoch - 85 | LR - 0.01 | Train Loss - 16241755.18 | Val Loss - 19139391.27\n",
      "Epoch - 86 | LR - 0.01 | Train Loss - 16994898.46 | Val Loss - 20909107.88\n",
      "Epoch - 87 | LR - 0.01 | Train Loss - 16753580.22 | Val Loss - 17970211.4\n",
      "Epoch - 88 | LR - 0.01 | Train Loss - 16157884.82 | Val Loss - 20633341.14\n",
      "Epoch - 89 | LR - 0.01 | Train Loss - 17494139.53 | Val Loss - 31683859.0\n",
      "Epoch - 90 | LR - 0.01 | Train Loss - 16630986.27 | Val Loss - 24629311.99\n",
      "Epoch - 91 | LR - 0.01 | Train Loss - 16651442.68 | Val Loss - 23885554.33\n",
      "Epoch - 92 | LR - 0.01 | Train Loss - 16094014.18 | Val Loss - 22371597.64\n",
      "Epoch - 93 | LR - 0.01 | Train Loss - 15537046.88 | Val Loss - 30173527.64\n",
      "Epoch - 94 | LR - 0.01 | Train Loss - 15858177.94 | Val Loss - 51984619.38\n",
      "Epoch - 95 | LR - 0.01 | Train Loss - 19239144.49 | Val Loss - 20588589.85\n",
      "Epoch - 96 | LR - 0.01 | Train Loss - 16370143.09 | Val Loss - 24693613.29\n",
      "Epoch - 97 | LR - 0.01 | Train Loss - 16413662.35 | Val Loss - 33652116.32\n",
      "Epoch - 98 | LR - 0.01 | Train Loss - 15318510.58 | Val Loss - 37947299.42\n",
      "Epoch - 99 | LR - 0.01 | Train Loss - 17010022.15 | Val Loss - 28145885.51\n",
      "Epoch - 100 | LR - 0.01 | Train Loss - 16447648.77 | Val Loss - 28941895.96\n",
      "Epoch - 101 | LR - 0.01 | Train Loss - 15790268.47 | Val Loss - 39767689.63\n",
      "Epoch - 102 | LR - 0.01 | Train Loss - 15311966.65 | Val Loss - 27112391.96\n",
      "Epoch - 103 | LR - 0.01 | Train Loss - 16205441.1 | Val Loss - 25949492.72\n",
      "Epoch - 104 | LR - 0.01 | Train Loss - 16286937.84 | Val Loss - 21420399.5\n",
      "Epoch - 105 | LR - 0.01 | Train Loss - 17249469.49 | Val Loss - 31986008.36\n",
      "Epoch - 106 | LR - 0.01 | Train Loss - 14892592.55 | Val Loss - 37718494.37\n",
      "Epoch - 107 | LR - 0.01 | Train Loss - 15415923.4 | Val Loss - 27227300.93\n",
      "Epoch - 108 | LR - 0.01 | Train Loss - 15453708.75 | Val Loss - 35821920.85\n",
      "Epoch - 109 | LR - 0.01 | Train Loss - 14440430.37 | Val Loss - 39933967.52\n",
      "Epoch - 110 | LR - 0.01 | Train Loss - 15012960.1 | Val Loss - 32463878.14\n",
      "Epoch - 111 | LR - 0.01 | Train Loss - 15030023.85 | Val Loss - 31822656.78\n",
      "Epoch - 112 | LR - 0.01 | Train Loss - 15811910.49 | Val Loss - 33961293.51\n",
      "Epoch - 113 | LR - 0.01 | Train Loss - 15768514.24 | Val Loss - 24324626.74\n",
      "Epoch - 114 | LR - 0.01 | Train Loss - 15917336.02 | Val Loss - 22495891.56\n",
      "Epoch - 115 | LR - 0.01 | Train Loss - 16292277.43 | Val Loss - 23044121.59\n",
      "Epoch - 116 | LR - 0.01 | Train Loss - 15010106.47 | Val Loss - 29887260.8\n",
      "Epoch - 117 | LR - 0.01 | Train Loss - 15251490.74 | Val Loss - 23870398.15\n",
      "Epoch - 118 | LR - 0.01 | Train Loss - 15599523.84 | Val Loss - 35484957.36\n",
      "Epoch - 119 | LR - 0.01 | Train Loss - 14628567.7 | Val Loss - 26867154.41\n",
      "Epoch - 120 | LR - 0.01 | Train Loss - 16727880.85 | Val Loss - 33546263.57\n",
      "Epoch - 121 | LR - 0.01 | Train Loss - 15126453.73 | Val Loss - 24240024.83\n",
      "Epoch - 122 | LR - 0.001 | Train Loss - 15101284.83 | Val Loss - 25882974.57\n",
      "Epoch - 123 | LR - 0.001 | Train Loss - 13454347.09 | Val Loss - 26759080.45\n",
      "Epoch - 124 | LR - 0.001 | Train Loss - 12829984.81 | Val Loss - 26109443.56\n",
      "Epoch - 125 | LR - 0.001 | Train Loss - 12828371.26 | Val Loss - 28066558.8\n",
      "Epoch - 126 | LR - 0.001 | Train Loss - 12610444.91 | Val Loss - 26833724.95\n",
      "Epoch - 127 | LR - 0.001 | Train Loss - 12494630.97 | Val Loss - 26571528.6\n",
      "Epoch - 128 | LR - 0.001 | Train Loss - 12381297.28 | Val Loss - 27541162.61\n",
      "Epoch - 129 | LR - 0.001 | Train Loss - 12348568.83 | Val Loss - 28960556.27\n",
      "Epoch - 130 | LR - 0.001 | Train Loss - 11785997.36 | Val Loss - 27395662.89\n",
      "Epoch - 131 | LR - 0.001 | Train Loss - 12199402.34 | Val Loss - 27777674.83\n",
      "Epoch - 132 | LR - 0.001 | Train Loss - 12405776.76 | Val Loss - 25679661.71\n",
      "Epoch - 133 | LR - 0.001 | Train Loss - 12210166.43 | Val Loss - 25341325.94\n",
      "Epoch - 134 | LR - 0.001 | Train Loss - 11996837.66 | Val Loss - 24721640.15\n",
      "Epoch - 135 | LR - 0.001 | Train Loss - 12336977.55 | Val Loss - 24523567.06\n",
      "Epoch - 136 | LR - 0.001 | Train Loss - 12359631.86 | Val Loss - 25190433.19\n",
      "Epoch - 137 | LR - 0.001 | Train Loss - 11937297.91 | Val Loss - 26050287.51\n",
      "Epoch - 138 | LR - 0.001 | Train Loss - 12095077.25 | Val Loss - 24997679.28\n",
      "Epoch - 139 | LR - 0.001 | Train Loss - 12288639.09 | Val Loss - 24952015.07\n",
      "Epoch - 140 | LR - 0.001 | Train Loss - 11746106.56 | Val Loss - 24804435.57\n",
      "Epoch - 141 | LR - 0.001 | Train Loss - 11458678.32 | Val Loss - 25835114.38\n",
      "Epoch - 142 | LR - 0.001 | Train Loss - 12229094.8 | Val Loss - 25750341.04\n",
      "Epoch - 143 | LR - 0.001 | Train Loss - 11127792.72 | Val Loss - 25251452.77\n",
      "Epoch - 144 | LR - 0.001 | Train Loss - 11540789.87 | Val Loss - 29324585.36\n",
      "Epoch - 145 | LR - 0.001 | Train Loss - 12531177.46 | Val Loss - 28579177.06\n",
      "Epoch - 146 | LR - 0.001 | Train Loss - 11893330.18 | Val Loss - 29509404.52\n",
      "Epoch - 147 | LR - 0.001 | Train Loss - 11629246.34 | Val Loss - 29813347.95\n",
      "Epoch - 148 | LR - 0.001 | Train Loss - 11521776.18 | Val Loss - 29810715.73\n",
      "Epoch - 149 | LR - 0.001 | Train Loss - 11873206.99 | Val Loss - 28899662.82\n",
      "Epoch - 150 | LR - 0.001 | Train Loss - 11803517.67 | Val Loss - 28272029.7\n",
      "Epoch - 151 | LR - 0.001 | Train Loss - 12766247.91 | Val Loss - 28175585.39\n",
      "Epoch - 152 | LR - 0.001 | Train Loss - 11848261.98 | Val Loss - 27317252.72\n",
      "Epoch - 153 | LR - 0.001 | Train Loss - 11134298.72 | Val Loss - 28548775.58\n",
      "Epoch - 154 | LR - 0.001 | Train Loss - 11979716.19 | Val Loss - 28607233.68\n",
      "Epoch - 155 | LR - 0.001 | Train Loss - 12323821.11 | Val Loss - 29803753.34\n",
      "Epoch - 156 | LR - 0.0001 | Train Loss - 11707020.41 | Val Loss - 29463046.41\n",
      "Epoch - 157 | LR - 0.0001 | Train Loss - 11787197.26 | Val Loss - 28794114.33\n",
      "Epoch - 158 | LR - 0.0001 | Train Loss - 11038489.16 | Val Loss - 28644820.43\n",
      "Epoch - 159 | LR - 0.0001 | Train Loss - 11344748.58 | Val Loss - 29231410.04\n",
      "Epoch - 160 | LR - 0.0001 | Train Loss - 11328638.55 | Val Loss - 28675070.28\n",
      "Epoch - 161 | LR - 0.0001 | Train Loss - 12015910.5 | Val Loss - 29019377.55\n",
      "Epoch - 162 | LR - 0.0001 | Train Loss - 11477791.26 | Val Loss - 29361936.98\n",
      "Epoch - 163 | LR - 0.0001 | Train Loss - 11822656.81 | Val Loss - 29206941.67\n",
      "Epoch - 164 | LR - 0.0001 | Train Loss - 11520922.02 | Val Loss - 28768395.04\n",
      "Epoch - 165 | LR - 0.0001 | Train Loss - 10872497.47 | Val Loss - 28466536.69\n",
      "Epoch - 166 | LR - 0.0001 | Train Loss - 11951938.28 | Val Loss - 29261866.81\n",
      "Epoch - 167 | LR - 0.0001 | Train Loss - 10577700.86 | Val Loss - 28242020.11\n",
      "Epoch - 168 | LR - 0.0001 | Train Loss - 11703185.92 | Val Loss - 28805675.94\n",
      "Epoch - 169 | LR - 0.0001 | Train Loss - 11358451.4 | Val Loss - 29105262.81\n",
      "Epoch - 170 | LR - 0.0001 | Train Loss - 11230270.24 | Val Loss - 27929616.13\n",
      "Epoch - 171 | LR - 0.0001 | Train Loss - 10732255.56 | Val Loss - 27628984.27\n",
      "Epoch - 172 | LR - 0.0001 | Train Loss - 10556451.28 | Val Loss - 28985444.26\n",
      "Epoch - 173 | LR - 0.0001 | Train Loss - 11721170.14 | Val Loss - 28506549.16\n",
      "Epoch - 174 | LR - 0.0001 | Train Loss - 11737898.92 | Val Loss - 28125628.25\n",
      "Epoch - 175 | LR - 0.0001 | Train Loss - 11577169.39 | Val Loss - 27643907.3\n",
      "Epoch - 176 | LR - 0.0001 | Train Loss - 11175292.46 | Val Loss - 28685600.9\n",
      "Epoch - 177 | LR - 0.0001 | Train Loss - 11020237.83 | Val Loss - 27795798.4\n",
      "Epoch - 178 | LR - 0.0001 | Train Loss - 10832938.8 | Val Loss - 27255307.07\n",
      "Epoch - 179 | LR - 0.0001 | Train Loss - 10960372.82 | Val Loss - 29000436.28\n",
      "Epoch - 180 | LR - 0.0001 | Train Loss - 11079784.4 | Val Loss - 28154664.65\n",
      "Epoch - 181 | LR - 0.0001 | Train Loss - 10558020.59 | Val Loss - 28349112.26\n",
      "Epoch - 182 | LR - 0.0001 | Train Loss - 10693212.11 | Val Loss - 29208999.43\n",
      "Epoch - 183 | LR - 0.0001 | Train Loss - 11118575.09 | Val Loss - 27399846.0\n",
      "Epoch - 184 | LR - 0.0001 | Train Loss - 10891136.73 | Val Loss - 28333569.47\n",
      "Epoch - 185 | LR - 1e-05 | Train Loss - 10835669.63 | Val Loss - 27423117.58\n",
      "Epoch - 186 | LR - 1e-05 | Train Loss - 11137390.61 | Val Loss - 28320412.79\n",
      "Epoch - 187 | LR - 1e-05 | Train Loss - 11509581.1 | Val Loss - 28604684.18\n",
      "Epoch - 188 | LR - 1e-05 | Train Loss - 11138302.19 | Val Loss - 28410213.98\n",
      "Epoch - 189 | LR - 1e-05 | Train Loss - 11711685.14 | Val Loss - 29328383.77\n",
      "Epoch - 190 | LR - 1e-05 | Train Loss - 10864575.95 | Val Loss - 28559531.34\n",
      "Epoch - 191 | LR - 1e-05 | Train Loss - 11337756.27 | Val Loss - 29014489.76\n",
      "Epoch - 192 | LR - 1e-05 | Train Loss - 10966978.2 | Val Loss - 28716609.26\n",
      "Epoch - 193 | LR - 1e-05 | Train Loss - 10801827.29 | Val Loss - 28416510.82\n",
      "Epoch - 194 | LR - 1e-05 | Train Loss - 11117086.79 | Val Loss - 28377549.0\n",
      "Epoch - 195 | LR - 1e-05 | Train Loss - 11589104.55 | Val Loss - 28858245.76\n",
      "Epoch - 196 | LR - 1e-05 | Train Loss - 11596194.48 | Val Loss - 28929148.08\n",
      "Epoch - 197 | LR - 1e-05 | Train Loss - 11372185.64 | Val Loss - 28903711.1\n",
      "Epoch - 198 | LR - 1.0000000000000002e-06 | Train Loss - 11421213.69 | Val Loss - 28761306.72\n",
      "Epoch - 199 | LR - 1.0000000000000002e-06 | Train Loss - 11340489.06 | Val Loss - 29261270.75\n",
      "Epoch - 200 | LR - 1.0000000000000002e-06 | Train Loss - 11071363.3 | Val Loss - 27327338.41\n",
      "Epoch - 201 | LR - 1.0000000000000002e-06 | Train Loss - 12336350.42 | Val Loss - 29297268.39\n",
      "Epoch - 202 | LR - 1.0000000000000002e-06 | Train Loss - 11711055.29 | Val Loss - 28315150.72\n",
      "Epoch - 203 | LR - 1.0000000000000002e-06 | Train Loss - 10910949.46 | Val Loss - 28398789.17\n",
      "Epoch - 204 | LR - 1.0000000000000002e-06 | Train Loss - 11285993.8 | Val Loss - 29005683.18\n",
      "Epoch - 205 | LR - 1.0000000000000002e-06 | Train Loss - 11790953.65 | Val Loss - 28811277.53\n",
      "Epoch - 206 | LR - 1.0000000000000002e-06 | Train Loss - 11141938.86 | Val Loss - 28567484.41\n",
      "Epoch - 207 | LR - 1.0000000000000002e-06 | Train Loss - 11323646.99 | Val Loss - 28631728.85\n",
      "Epoch - 208 | LR - 1.0000000000000002e-06 | Train Loss - 11085922.26 | Val Loss - 29112948.04\n",
      "Epoch - 209 | LR - 1.0000000000000002e-06 | Train Loss - 11006992.7 | Val Loss - 28917623.22\n",
      "Epoch - 210 | LR - 1.0000000000000002e-06 | Train Loss - 11303683.13 | Val Loss - 29173513.14\n"
     ]
    }
   ],
   "source": [
    "train(model, epochs=1000, lr=1e-02)"
   ]
  },
  {
   "cell_type": "markdown",
   "metadata": {
    "id": "D5yeNkgGi3hi"
   },
   "source": [
    "### Prediction on Validation Dataset"
   ]
  },
  {
   "cell_type": "code",
   "execution_count": 20,
   "metadata": {
    "colab": {
     "base_uri": "https://localhost:8080/",
     "height": 485
    },
    "executionInfo": {
     "elapsed": 2358,
     "status": "ok",
     "timestamp": 1625694771090,
     "user": {
      "displayName": "Santanu Bhattacharjee",
      "photoUrl": "",
      "userId": "14679996383546323615"
     },
     "user_tz": -330
    },
    "id": "yPuIiVa9jAok",
    "outputId": "53dc4849-9529-4e9c-c65f-877b6566c818"
   },
   "outputs": [
    {
     "data": {
      "image/png": "[encoded data removed]",
      "text/plain": [
       "<Figure size 1728x576 with 2 Axes>"
      ]
     },
     "metadata": {
      "needs_background": "light",
      "tags": []
     },
     "output_type": "display_data"
    }
   ],
   "source": [
    "y_actual_rainfall, y_pred_rainfall = [], []\n",
    "y_actual_inflow, y_pred_inflow = [], []\n",
    "model.eval()\n",
    "with torch.no_grad():\n",
    "    for xb, yb in val_dl:\n",
    "        x_month = xb[0].cuda()\n",
    "        x_day = xb[1].cuda()\n",
    "        x_season = xb[2].cuda()\n",
    "        x_prev_data = xb[3].cuda()\n",
    "        y_inflow = yb[0]\n",
    "        y_rainfall = yb[1]\n",
    "\n",
    "        y_hat = model(x_month, x_day, x_season, x_prev_data)\n",
    "        y_hat_rainfall = y_hat[0]\n",
    "        y_hat_inflow = y_hat[1]\n",
    "\n",
    "        y_actual_rainfall += y_rainfall.data.tolist()\n",
    "        y_actual_inflow += y_inflow.data.tolist()\n",
    "        y_pred_rainfall += y_hat_rainfall.cpu().data.tolist()\n",
    "        y_pred_inflow += y_hat_inflow.cpu().data.tolist()\n",
    "\n",
    "y_actual_rainfall = np.array(y_actual_rainfall).flatten()\n",
    "y_actual_inflow = np.array(y_actual_inflow).flatten()\n",
    "y_pred_rainfall = np.array(y_pred_rainfall).flatten()\n",
    "y_pred_inflow = np.array(y_pred_inflow).flatten()\n",
    "\n",
    "f, (ax1, ax2) = plt.subplots(1, 2, figsize=(24,8))\n",
    "ax1.plot(y_pred_inflow, label='Predicted')\n",
    "ax1.plot(y_actual_inflow, label='Actal')\n",
    "ax1.legend()\n",
    "ax2.plot(y_pred_rainfall, label='Predicted')\n",
    "ax2.plot(y_actual_rainfall, label='Actal')\n",
    "ax2.legend()\n",
    "plt.show()"
   ]
  },
  {
   "cell_type": "markdown",
   "metadata": {
    "id": "OblQ8YC7i7vS"
   },
   "source": [
    "### Prediction on entire Dataset"
   ]
  },
  {
   "cell_type": "code",
   "execution_count": 21,
   "metadata": {
    "executionInfo": {
     "elapsed": 7,
     "status": "ok",
     "timestamp": 1625694771091,
     "user": {
      "displayName": "Santanu Bhattacharjee",
      "photoUrl": "",
      "userId": "14679996383546323615"
     },
     "user_tz": -330
    },
    "id": "4b6RGJkih6-S"
   },
   "outputs": [],
   "source": [
    "def pred(df):\n",
    "    pred_ds = InflowDataset(df.copy())\n",
    "    pred_dl = DataLoader(pred_ds, batch_size=len(pred_ds))\n",
    "\n",
    "    model.eval()\n",
    "    with torch.no_grad():\n",
    "        for x, y in pred_dl:\n",
    "            x_month = x[0].cuda()\n",
    "            x_day = x[1].cuda()\n",
    "            x_season = x[2].cuda()\n",
    "            x_prev_data = x[3].cuda()\n",
    "            y_inflow = yb[0]\n",
    "            y_rainfall = yb[1]\n",
    "\n",
    "            y_hat = model(x_month, x_day, x_season, x_prev_data)\n",
    "            y_hat_rainfall = y_hat[0]\n",
    "            y_hat_inflow = y_hat[1]\n",
    "\n",
    "    return y_hat_inflow.data.cpu().view(-1).tolist(), y_hat_rainfall.data.cpu().view(-1).tolist()"
   ]
  },
  {
   "cell_type": "code",
   "execution_count": 22,
   "metadata": {
    "colab": {
     "base_uri": "https://localhost:8080/",
     "height": 363
    },
    "executionInfo": {
     "elapsed": 11134,
     "status": "ok",
     "timestamp": 1625694782219,
     "user": {
      "displayName": "Santanu Bhattacharjee",
      "photoUrl": "",
      "userId": "14679996383546323615"
     },
     "user_tz": -330
    },
    "id": "KPfrfxybregK",
    "outputId": "81baa0c7-6c4c-402c-ab99-294bc576423a"
   },
   "outputs": [
    {
     "data": {
      "text/html": [
       "<div>\n",
       "<style scoped>\n",
       "    .dataframe tbody tr th:only-of-type {\n",
       "        vertical-align: middle;\n",
       "    }\n",
       "\n",
       "    .dataframe tbody tr th {\n",
       "        vertical-align: top;\n",
       "    }\n",
       "\n",
       "    .dataframe thead th {\n",
       "        text-align: right;\n",
       "    }\n",
       "</style>\n",
       "<table border=\"1\" class=\"dataframe\">\n",
       "  <thead>\n",
       "    <tr style=\"text-align: right;\">\n",
       "      <th></th>\n",
       "      <th>INFLOW_CUSECS</th>\n",
       "      <th>YEAR</th>\n",
       "      <th>MONTH</th>\n",
       "      <th>DAY</th>\n",
       "      <th>RAINFALL</th>\n",
       "      <th>SEASON</th>\n",
       "      <th>Predicted_Inflow</th>\n",
       "      <th>Predicted_Rainfall</th>\n",
       "    </tr>\n",
       "  </thead>\n",
       "  <tbody>\n",
       "    <tr>\n",
       "      <th>0</th>\n",
       "      <td>2029.0</td>\n",
       "      <td>2011</td>\n",
       "      <td>1</td>\n",
       "      <td>0</td>\n",
       "      <td>0.0226</td>\n",
       "      <td>WINTER</td>\n",
       "      <td>3348.553223</td>\n",
       "      <td>0.0</td>\n",
       "    </tr>\n",
       "    <tr>\n",
       "      <th>1</th>\n",
       "      <td>3084.0</td>\n",
       "      <td>2011</td>\n",
       "      <td>1</td>\n",
       "      <td>1</td>\n",
       "      <td>0.0226</td>\n",
       "      <td>WINTER</td>\n",
       "      <td>3151.433594</td>\n",
       "      <td>0.0</td>\n",
       "    </tr>\n",
       "    <tr>\n",
       "      <th>2</th>\n",
       "      <td>2776.0</td>\n",
       "      <td>2011</td>\n",
       "      <td>1</td>\n",
       "      <td>2</td>\n",
       "      <td>0.0226</td>\n",
       "      <td>WINTER</td>\n",
       "      <td>2942.424072</td>\n",
       "      <td>0.0</td>\n",
       "    </tr>\n",
       "    <tr>\n",
       "      <th>3</th>\n",
       "      <td>2311.0</td>\n",
       "      <td>2011</td>\n",
       "      <td>1</td>\n",
       "      <td>3</td>\n",
       "      <td>0.0226</td>\n",
       "      <td>WINTER</td>\n",
       "      <td>2530.002197</td>\n",
       "      <td>0.0</td>\n",
       "    </tr>\n",
       "    <tr>\n",
       "      <th>4</th>\n",
       "      <td>1847.0</td>\n",
       "      <td>2011</td>\n",
       "      <td>1</td>\n",
       "      <td>4</td>\n",
       "      <td>0.0226</td>\n",
       "      <td>WINTER</td>\n",
       "      <td>2226.238770</td>\n",
       "      <td>0.0</td>\n",
       "    </tr>\n",
       "    <tr>\n",
       "      <th>5</th>\n",
       "      <td>2156.0</td>\n",
       "      <td>2011</td>\n",
       "      <td>1</td>\n",
       "      <td>5</td>\n",
       "      <td>0.0226</td>\n",
       "      <td>WINTER</td>\n",
       "      <td>1787.236816</td>\n",
       "      <td>0.0</td>\n",
       "    </tr>\n",
       "    <tr>\n",
       "      <th>6</th>\n",
       "      <td>1847.0</td>\n",
       "      <td>2011</td>\n",
       "      <td>1</td>\n",
       "      <td>6</td>\n",
       "      <td>0.0226</td>\n",
       "      <td>WINTER</td>\n",
       "      <td>1976.716431</td>\n",
       "      <td>0.0</td>\n",
       "    </tr>\n",
       "    <tr>\n",
       "      <th>7</th>\n",
       "      <td>2002.0</td>\n",
       "      <td>2011</td>\n",
       "      <td>1</td>\n",
       "      <td>7</td>\n",
       "      <td>0.0226</td>\n",
       "      <td>WINTER</td>\n",
       "      <td>2069.075195</td>\n",
       "      <td>0.0</td>\n",
       "    </tr>\n",
       "    <tr>\n",
       "      <th>8</th>\n",
       "      <td>1537.0</td>\n",
       "      <td>2011</td>\n",
       "      <td>1</td>\n",
       "      <td>8</td>\n",
       "      <td>0.0226</td>\n",
       "      <td>WINTER</td>\n",
       "      <td>1778.406128</td>\n",
       "      <td>0.0</td>\n",
       "    </tr>\n",
       "    <tr>\n",
       "      <th>9</th>\n",
       "      <td>1382.0</td>\n",
       "      <td>2011</td>\n",
       "      <td>1</td>\n",
       "      <td>9</td>\n",
       "      <td>0.0226</td>\n",
       "      <td>WINTER</td>\n",
       "      <td>1873.048584</td>\n",
       "      <td>0.0</td>\n",
       "    </tr>\n",
       "  </tbody>\n",
       "</table>\n",
       "</div>"
      ],
      "text/plain": [
       "   INFLOW_CUSECS  YEAR  MONTH  ...  SEASON  Predicted_Inflow Predicted_Rainfall\n",
       "0         2029.0  2011      1  ...  WINTER       3348.553223                0.0\n",
       "1         3084.0  2011      1  ...  WINTER       3151.433594                0.0\n",
       "2         2776.0  2011      1  ...  WINTER       2942.424072                0.0\n",
       "3         2311.0  2011      1  ...  WINTER       2530.002197                0.0\n",
       "4         1847.0  2011      1  ...  WINTER       2226.238770                0.0\n",
       "5         2156.0  2011      1  ...  WINTER       1787.236816                0.0\n",
       "6         1847.0  2011      1  ...  WINTER       1976.716431                0.0\n",
       "7         2002.0  2011      1  ...  WINTER       2069.075195                0.0\n",
       "8         1537.0  2011      1  ...  WINTER       1778.406128                0.0\n",
       "9         1382.0  2011      1  ...  WINTER       1873.048584                0.0\n",
       "\n",
       "[10 rows x 8 columns]"
      ]
     },
     "execution_count": 22,
     "metadata": {
      "tags": []
     },
     "output_type": "execute_result"
    }
   ],
   "source": [
    "model_test_df = inflow_df.sort_values(by=['YEAR', 'DAY']).copy()\n",
    "model_test_df['Predicted_Inflow'], model_test_df['Predicted_Rainfall'] = pred(model_test_df)\n",
    "model_test_df[:10]"
   ]
  },
  {
   "cell_type": "code",
   "execution_count": 23,
   "metadata": {
    "executionInfo": {
     "elapsed": 10,
     "status": "ok",
     "timestamp": 1625694782220,
     "user": {
      "displayName": "Santanu Bhattacharjee",
      "photoUrl": "",
      "userId": "14679996383546323615"
     },
     "user_tz": -330
    },
    "id": "xbIw_kYlUk2F"
   },
   "outputs": [],
   "source": [
    "avg_daily_pred_inflow = model_test_df.groupby('DAY')['Predicted_Inflow'].mean().values\n",
    "avg_daily_actual_inflow = model_test_df.groupby('DAY')['INFLOW_CUSECS'].mean().values\n",
    "avg_daily_pred_rainfall = model_test_df.groupby('DAY')['Predicted_Rainfall'].mean().values\n",
    "avg_daily_actual_rainfall = model_test_df.groupby('DAY')['RAINFALL'].mean().values"
   ]
  },
  {
   "cell_type": "code",
   "execution_count": 24,
   "metadata": {
    "colab": {
     "base_uri": "https://localhost:8080/",
     "height": 483
    },
    "executionInfo": {
     "elapsed": 11,
     "status": "ok",
     "timestamp": 1625694782222,
     "user": {
      "displayName": "Santanu Bhattacharjee",
      "photoUrl": "",
      "userId": "14679996383546323615"
     },
     "user_tz": -330
    },
    "id": "F-ugzGvTsMJR",
    "outputId": "57ca84df-1b94-4ab1-98c8-99e2ee38c004"
   },
   "outputs": [
    {
     "data": {
      "image/png": "[encoded data removed]",
      "text/plain": [
       "<Figure size 1728x576 with 2 Axes>"
      ]
     },
     "metadata": {
      "needs_background": "light",
      "tags": []
     },
     "output_type": "display_data"
    }
   ],
   "source": [
    "# plt.figure()\n",
    "f, (ax1, ax2) = plt.subplots(nrows=1, ncols=2, figsize=(24, 8))\n",
    "ax1.plot(avg_daily_pred_inflow, label='Predicted')\n",
    "ax1.plot(avg_daily_actual_inflow, label='Actual')\n",
    "ax1.legend()\n",
    "ax2.plot(avg_daily_pred_rainfall, label='Predicted')\n",
    "ax2.plot(avg_daily_actual_rainfall, label='Actual')\n",
    "ax2.legend()\n",
    "plt.show()"
   ]
  },
  {
   "cell_type": "code",
   "execution_count": 25,
   "metadata": {
    "executionInfo": {
     "elapsed": 8,
     "status": "ok",
     "timestamp": 1625694782222,
     "user": {
      "displayName": "Santanu Bhattacharjee",
      "photoUrl": "",
      "userId": "14679996383546323615"
     },
     "user_tz": -330
    },
    "id": "8Jg80Ow-9PTN"
   },
   "outputs": [],
   "source": [
    "rainfall_departure_with_pred_df = pd.merge(rainfall_departure_df, model_test_df.groupby(['MONTH', 'YEAR'])['Predicted_Rainfall'].mean().reset_index(), on=['YEAR', 'MONTH'])"
   ]
  },
  {
   "cell_type": "code",
   "execution_count": 26,
   "metadata": {
    "colab": {
     "base_uri": "https://localhost:8080/",
     "height": 483
    },
    "executionInfo": {
     "elapsed": 1360,
     "status": "ok",
     "timestamp": 1625694783575,
     "user": {
      "displayName": "Santanu Bhattacharjee",
      "photoUrl": "",
      "userId": "14679996383546323615"
     },
     "user_tz": -330
    },
    "id": "H2bcnr43_JgO",
    "outputId": "8fcb6a21-fc30-41b8-be6a-aabeb7fda19f"
   },
   "outputs": [
    {
     "data": {
      "image/png": "[encoded data removed]",
      "text/plain": [
       "<Figure size 1440x576 with 1 Axes>"
      ]
     },
     "metadata": {
      "needs_background": "light",
      "tags": []
     },
     "output_type": "display_data"
    }
   ],
   "source": [
    "plt.figure(figsize=(20, 8))\n",
    "plt.plot(rainfall_departure_with_pred_df['Predicted_Rainfall'], label='Predicted')\n",
    "plt.plot(rainfall_departure_with_pred_df['RAINFALL'], label='Actual')\n",
    "plt.legend()\n",
    "plt.show()"
   ]
  },
  {
   "cell_type": "code",
   "execution_count": 27,
   "metadata": {
    "colab": {
     "base_uri": "https://localhost:8080/"
    },
    "executionInfo": {
     "elapsed": 13,
     "status": "ok",
     "timestamp": 1625694785342,
     "user": {
      "displayName": "Santanu Bhattacharjee",
      "photoUrl": "",
      "userId": "14679996383546323615"
     },
     "user_tz": -330
    },
    "id": "RZBxcO5ILVym",
    "outputId": "3e917457-a71e-4c0e-c4f2-1954886610c5"
   },
   "outputs": [
    {
     "data": {
      "text/plain": [
       "count    3274.000000\n",
       "mean      213.948969\n",
       "std       312.578910\n",
       "min         0.000000\n",
       "25%         0.000000\n",
       "50%        37.724577\n",
       "75%       417.828568\n",
       "max      2112.433350\n",
       "Name: Predicted_Rainfall, dtype: float64"
      ]
     },
     "execution_count": 27,
     "metadata": {
      "tags": []
     },
     "output_type": "execute_result"
    }
   ],
   "source": [
    "model_test_df['Predicted_Rainfall'].describe()"
   ]
  },
  {
   "cell_type": "code",
   "execution_count": 28,
   "metadata": {
    "colab": {
     "base_uri": "https://localhost:8080/"
    },
    "executionInfo": {
     "elapsed": 11,
     "status": "ok",
     "timestamp": 1625694785344,
     "user": {
      "displayName": "Santanu Bhattacharjee",
      "photoUrl": "",
      "userId": "14679996383546323615"
     },
     "user_tz": -330
    },
    "id": "XmXP21xJ7Whm",
    "outputId": "0b230121-6a9d-44a5-9200-c12355dd43c9"
   },
   "outputs": [
    {
     "data": {
      "text/plain": [
       "count     156.000000\n",
       "mean      220.685897\n",
       "std       287.744814\n",
       "min         0.000000\n",
       "25%        13.800000\n",
       "50%       103.800000\n",
       "75%       314.500000\n",
       "max      1318.100000\n",
       "Name: RAINFALL, dtype: float64"
      ]
     },
     "execution_count": 28,
     "metadata": {
      "tags": []
     },
     "output_type": "execute_result"
    }
   ],
   "source": [
    "rainfall_df['RAINFALL'].describe()"
   ]
  },
  {
   "cell_type": "code",
   "execution_count": 29,
   "metadata": {
    "colab": {
     "base_uri": "https://localhost:8080/",
     "height": 483
    },
    "executionInfo": {
     "elapsed": 10,
     "status": "ok",
     "timestamp": 1625694785345,
     "user": {
      "displayName": "Santanu Bhattacharjee",
      "photoUrl": "",
      "userId": "14679996383546323615"
     },
     "user_tz": -330
    },
    "id": "K-0IatGGTWTO",
    "outputId": "59b057be-bb25-4229-a0b8-fb0a8d9aa9c8"
   },
   "outputs": [
    {
     "data": {
      "image/png": "[encoded data removed]",
      "text/plain": [
       "<Figure size 864x576 with 1 Axes>"
      ]
     },
     "metadata": {
      "needs_background": "light",
      "tags": []
     },
     "output_type": "display_data"
    }
   ],
   "source": [
    "plt.figure(figsize=(12, 8))\n",
    "plt.plot(avg_daily_pred_inflow / avg_daily_pred_inflow.max(), label='Predicted')\n",
    "plt.plot(avg_daily_actual_inflow / avg_daily_actual_inflow.max(), label='Actual')\n",
    "plt.plot(avg_daily_actual_rainfall / avg_daily_actual_rainfall.max(), label='Rainfall')\n",
    "\n",
    "plt.legend()\n",
    "plt.show()"
   ]
  },
  {
   "cell_type": "code",
   "execution_count": 30,
   "metadata": {
    "colab": {
     "base_uri": "https://localhost:8080/",
     "height": 237
    },
    "executionInfo": {
     "elapsed": 12,
     "status": "ok",
     "timestamp": 1625694786203,
     "user": {
      "displayName": "Santanu Bhattacharjee",
      "photoUrl": "",
      "userId": "14679996383546323615"
     },
     "user_tz": -330
    },
    "id": "1-a2sq86nST4",
    "outputId": "8b687fae-f2ea-4e76-a9b5-f6ba20b01eec"
   },
   "outputs": [
    {
     "data": {
      "text/html": [
       "<div>\n",
       "<style scoped>\n",
       "    .dataframe tbody tr th:only-of-type {\n",
       "        vertical-align: middle;\n",
       "    }\n",
       "\n",
       "    .dataframe tbody tr th {\n",
       "        vertical-align: top;\n",
       "    }\n",
       "\n",
       "    .dataframe thead th {\n",
       "        text-align: right;\n",
       "    }\n",
       "</style>\n",
       "<table border=\"1\" class=\"dataframe\">\n",
       "  <thead>\n",
       "    <tr style=\"text-align: right;\">\n",
       "      <th></th>\n",
       "      <th>INFLOW_CUSECS</th>\n",
       "      <th>YEAR</th>\n",
       "      <th>MONTH</th>\n",
       "      <th>DAY</th>\n",
       "      <th>RAINFALL</th>\n",
       "      <th>SEASON</th>\n",
       "      <th>Predicted_Inflow</th>\n",
       "      <th>Predicted_Rainfall</th>\n",
       "    </tr>\n",
       "    <tr>\n",
       "      <th>YEAR-MONTH-DAY</th>\n",
       "      <th></th>\n",
       "      <th></th>\n",
       "      <th></th>\n",
       "      <th></th>\n",
       "      <th></th>\n",
       "      <th></th>\n",
       "      <th></th>\n",
       "      <th></th>\n",
       "    </tr>\n",
       "  </thead>\n",
       "  <tbody>\n",
       "    <tr>\n",
       "      <th>2011-1-0</th>\n",
       "      <td>2029.0</td>\n",
       "      <td>2011</td>\n",
       "      <td>1</td>\n",
       "      <td>0</td>\n",
       "      <td>0.0226</td>\n",
       "      <td>WINTER</td>\n",
       "      <td>3348.553223</td>\n",
       "      <td>0.0</td>\n",
       "    </tr>\n",
       "    <tr>\n",
       "      <th>2011-1-1</th>\n",
       "      <td>3084.0</td>\n",
       "      <td>2011</td>\n",
       "      <td>1</td>\n",
       "      <td>1</td>\n",
       "      <td>0.0226</td>\n",
       "      <td>WINTER</td>\n",
       "      <td>3151.433594</td>\n",
       "      <td>0.0</td>\n",
       "    </tr>\n",
       "    <tr>\n",
       "      <th>2011-1-2</th>\n",
       "      <td>2776.0</td>\n",
       "      <td>2011</td>\n",
       "      <td>1</td>\n",
       "      <td>2</td>\n",
       "      <td>0.0226</td>\n",
       "      <td>WINTER</td>\n",
       "      <td>2942.424072</td>\n",
       "      <td>0.0</td>\n",
       "    </tr>\n",
       "    <tr>\n",
       "      <th>2011-1-3</th>\n",
       "      <td>2311.0</td>\n",
       "      <td>2011</td>\n",
       "      <td>1</td>\n",
       "      <td>3</td>\n",
       "      <td>0.0226</td>\n",
       "      <td>WINTER</td>\n",
       "      <td>2530.002197</td>\n",
       "      <td>0.0</td>\n",
       "    </tr>\n",
       "    <tr>\n",
       "      <th>2011-1-4</th>\n",
       "      <td>1847.0</td>\n",
       "      <td>2011</td>\n",
       "      <td>1</td>\n",
       "      <td>4</td>\n",
       "      <td>0.0226</td>\n",
       "      <td>WINTER</td>\n",
       "      <td>2226.238770</td>\n",
       "      <td>0.0</td>\n",
       "    </tr>\n",
       "  </tbody>\n",
       "</table>\n",
       "</div>"
      ],
      "text/plain": [
       "                INFLOW_CUSECS  YEAR  ...  Predicted_Inflow  Predicted_Rainfall\n",
       "YEAR-MONTH-DAY                       ...                                      \n",
       "2011-1-0               2029.0  2011  ...       3348.553223                 0.0\n",
       "2011-1-1               3084.0  2011  ...       3151.433594                 0.0\n",
       "2011-1-2               2776.0  2011  ...       2942.424072                 0.0\n",
       "2011-1-3               2311.0  2011  ...       2530.002197                 0.0\n",
       "2011-1-4               1847.0  2011  ...       2226.238770                 0.0\n",
       "\n",
       "[5 rows x 8 columns]"
      ]
     },
     "execution_count": 30,
     "metadata": {
      "tags": []
     },
     "output_type": "execute_result"
    }
   ],
   "source": [
    "model_test_df['YEAR-MONTH-DAY'] = model_test_df['YEAR'].astype(str) + '-' + model_test_df['MONTH'].astype(str) + '-' + model_test_df['DAY'].astype(str)\n",
    "model_test_df.set_index('YEAR-MONTH-DAY', inplace=True)\n",
    "model_test_df.head()"
   ]
  },
  {
   "cell_type": "code",
   "execution_count": 31,
   "metadata": {
    "colab": {
     "base_uri": "https://localhost:8080/",
     "height": 577
    },
    "executionInfo": {
     "elapsed": 34089,
     "status": "ok",
     "timestamp": 1625694820283,
     "user": {
      "displayName": "Santanu Bhattacharjee",
      "photoUrl": "",
      "userId": "14679996383546323615"
     },
     "user_tz": -330
    },
    "id": "jimP3R0lmngP",
    "outputId": "b5b16406-f3fb-403e-9e39-fe5e66bcf23f"
   },
   "outputs": [
    {
     "data": {
      "image/png": "[encoded data removed]",
      "text/plain": [
       "<Figure size 1800x720 with 1 Axes>"
      ]
     },
     "metadata": {
      "needs_background": "light",
      "tags": []
     },
     "output_type": "display_data"
    }
   ],
   "source": [
    "plt.figure(figsize=(25, 10))\n",
    "plt.plot(model_test_df['Predicted_Inflow'], label='Predicted')\n",
    "plt.plot(model_test_df['INFLOW_CUSECS'], label='Actual')\n",
    "plt.legend()\n",
    "plt.show()"
   ]
  },
  {
   "cell_type": "code",
   "execution_count": 32,
   "metadata": {
    "colab": {
     "base_uri": "https://localhost:8080/"
    },
    "executionInfo": {
     "elapsed": 13,
     "status": "ok",
     "timestamp": 1625694820284,
     "user": {
      "displayName": "Santanu Bhattacharjee",
      "photoUrl": "",
      "userId": "14679996383546323615"
     },
     "user_tz": -330
    },
    "id": "pE4v0RTA674b",
    "outputId": "c5b6a76f-bacf-453e-e5ae-e45aef8bf8e3"
   },
   "outputs": [
    {
     "data": {
      "text/plain": [
       "((2944, 8), (330, 8))"
      ]
     },
     "execution_count": 32,
     "metadata": {
      "tags": []
     },
     "output_type": "execute_result"
    }
   ],
   "source": [
    "train_data_with_pred = model_test_df[model_test_df['YEAR'] < 2020]\n",
    "val_data_with_pred = model_test_df[model_test_df['YEAR'] == 2020]\n",
    "train_data_with_pred.shape, val_data_with_pred.shape"
   ]
  },
  {
   "cell_type": "code",
   "execution_count": 33,
   "metadata": {
    "colab": {
     "base_uri": "https://localhost:8080/"
    },
    "executionInfo": {
     "elapsed": 10,
     "status": "ok",
     "timestamp": 1625694820285,
     "user": {
      "displayName": "Santanu Bhattacharjee",
      "photoUrl": "",
      "userId": "14679996383546323615"
     },
     "user_tz": -330
    },
    "id": "uyQkjx8R6-sN",
    "outputId": "45f94b63-2c72-4ca5-f857-c82a3186ae93"
   },
   "outputs": [
    {
     "data": {
      "text/plain": [
       "((102, 5), (12, 5))"
      ]
     },
     "execution_count": 33,
     "metadata": {
      "tags": []
     },
     "output_type": "execute_result"
    }
   ],
   "source": [
    "train_rainfall_departure_with_pred = rainfall_departure_with_pred_df[rainfall_departure_with_pred_df['YEAR'] < 2020]\n",
    "val_rainfall_departure_with_pred = rainfall_departure_with_pred_df[rainfall_departure_with_pred_df['YEAR'] == 2020]\n",
    "train_rainfall_departure_with_pred.shape, val_rainfall_departure_with_pred.shape"
   ]
  },
  {
   "cell_type": "code",
   "execution_count": 34,
   "metadata": {
    "colab": {
     "base_uri": "https://localhost:8080/"
    },
    "executionInfo": {
     "elapsed": 7,
     "status": "ok",
     "timestamp": 1625694822379,
     "user": {
      "displayName": "Santanu Bhattacharjee",
      "photoUrl": "",
      "userId": "14679996383546323615"
     },
     "user_tz": -330
    },
    "id": "93Hbvmw77CN3",
    "outputId": "21efd049-0fc5-451a-87bf-b91efb91b02e"
   },
   "outputs": [
    {
     "data": {
      "text/plain": [
       "3069.5426044593437"
      ]
     },
     "execution_count": 34,
     "metadata": {
      "tags": []
     },
     "output_type": "execute_result"
    }
   ],
   "source": [
    "((train_data_with_pred['INFLOW_CUSECS'] - train_data_with_pred['Predicted_Inflow']) ** 2).mean() ** .5 + ((train_rainfall_departure_with_pred['RAINFALL'] - train_rainfall_departure_with_pred['Predicted_Rainfall']) ** 2).mean() ** .5      "
   ]
  },
  {
   "cell_type": "code",
   "execution_count": 35,
   "metadata": {
    "colab": {
     "base_uri": "https://localhost:8080/"
    },
    "executionInfo": {
     "elapsed": 7,
     "status": "ok",
     "timestamp": 1625694822380,
     "user": {
      "displayName": "Santanu Bhattacharjee",
      "photoUrl": "",
      "userId": "14679996383546323615"
     },
     "user_tz": -330
    },
    "id": "PqbJFzJuM98V",
    "outputId": "8e9b2f72-8f8a-47a3-bd44-648e4fa23f82"
   },
   "outputs": [
    {
     "data": {
      "text/plain": [
       "5645.818011522274"
      ]
     },
     "execution_count": 35,
     "metadata": {
      "tags": []
     },
     "output_type": "execute_result"
    }
   ],
   "source": [
    "((val_data_with_pred['INFLOW_CUSECS'] - val_data_with_pred['Predicted_Inflow']) ** 2).mean() ** .5 + ((val_rainfall_departure_with_pred['RAINFALL'] - val_rainfall_departure_with_pred['Predicted_Rainfall']) ** 2).mean() ** .5      "
   ]
  },
  {
   "cell_type": "code",
   "execution_count": 36,
   "metadata": {
    "executionInfo": {
     "elapsed": 4,
     "status": "ok",
     "timestamp": 1625694822380,
     "user": {
      "displayName": "Santanu Bhattacharjee",
      "photoUrl": "",
      "userId": "14679996383546323615"
     },
     "user_tz": -330
    },
    "id": "NuI-8J9CVNzT"
   },
   "outputs": [],
   "source": [
    "torch.save(model.state_dict(), 'inflow_rainfall_predict_use_model.pth')"
   ]
  },
  {
   "cell_type": "code",
   "execution_count": null,
   "metadata": {
    "id": "uQcT8b9ypmVI"
   },
   "outputs": [],
   "source": []
  }
 ],
 "metadata": {
  "accelerator": "GPU",
  "colab": {
   "authorship_tag": "ABX9TyOYnQxP8qWZQEJ+md8PIe/X",
   "collapsed_sections": [],
   "name": "inflow(rainfall_predict_and_use).ipynb",
   "provenance": []
  },
  "kernelspec": {
   "display_name": "Python 3",
   "language": "python",
   "name": "python3"
  },
  "language_info": {
   "codemirror_mode": {
    "name": "ipython",
    "version": 3
   },
   "file_extension": ".py",
   "mimetype": "text/x-python",
   "name": "python",
   "nbconvert_exporter": "python",
   "pygments_lexer": "ipython3",
   "version": "3.7.7"
  }
 },
 "nbformat": 4,
 "nbformat_minor": 1
}
